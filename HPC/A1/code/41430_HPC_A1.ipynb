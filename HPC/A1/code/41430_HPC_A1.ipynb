{
 "cells": [
  {
   "cell_type": "code",
   "execution_count": 2,
   "metadata": {
    "colab": {
     "base_uri": "https://localhost:8080/",
     "height": 85
    },
    "colab_type": "code",
    "id": "1O4mzLmJfTwq",
    "outputId": "5d0ad4f4-b5c8-4cfc-de0f-c5685f273fe5"
   },
   "outputs": [
    {
     "name": "stdout",
     "output_type": "stream",
     "text": [
      "nvcc: NVIDIA (R) Cuda compiler driver\r\n",
      "Copyright (c) 2005-2019 NVIDIA Corporation\r\n",
      "Built on Sun_Jul_28_19:07:16_PDT_2019\r\n",
      "Cuda compilation tools, release 10.1, V10.1.243\r\n"
     ]
    }
   ],
   "source": [
    "!nvcc --version"
   ]
  },
  {
   "cell_type": "code",
   "execution_count": 0,
   "metadata": {
    "colab": {},
    "colab_type": "code",
    "collapsed": true,
    "id": "Jz1s3_5xoond"
   },
   "outputs": [],
   "source": [
    "code = \"\"\"\n",
    "#include<iostream>\n",
    "#include<math.h>\n",
    "\n",
    "#define n 8\n",
    "\n",
    "using namespace std;\n",
    "\n",
    "__global__ void minimum(int *input) {\n",
    "    int tid = threadIdx.x;\n",
    "    int step_size = 1;\n",
    "    int number_of_threads = blockDim.x;\n",
    "    \n",
    "    printf(\"No of threads = %d\", number_of_threads);\n",
    "    \n",
    "    while(number_of_threads>0) {\n",
    "        if(tid < number_of_threads) {\n",
    "            int first = tid*step_size*2;\n",
    "            int second = first + step_size;\n",
    "            if(input[second] < input[first])\n",
    "              input[first] = input[second];\n",
    "        }\n",
    "        step_size <<= 1;\n",
    "        number_of_threads >>= 1;\n",
    "    }\n",
    "}\n",
    "\n",
    "__global__ void maximum(int *input) {\n",
    "    int tid = threadIdx.x;\n",
    "    int step_size = 1;\n",
    "    int number_of_threads = blockDim.x;\n",
    "    \n",
    "    while(number_of_threads>0) {\n",
    "        if(tid < number_of_threads) {\n",
    "            int first = tid*step_size*2;\n",
    "            int second = first + step_size;\n",
    "            if(input[second] > input[first])\n",
    "              input[first] = input[second];\n",
    "        }\n",
    "        step_size <<= 1;\n",
    "        number_of_threads >>= 1;\n",
    "    }\n",
    "}\n",
    "\n",
    "__global__ void sum(int *input) {\n",
    "    const int tid = threadIdx.x;\n",
    "    int step_size = 1;\n",
    "    int number_of_threads = blockDim.x;\n",
    "    \n",
    "    while(number_of_threads > 0) {\n",
    "        if(tid < number_of_threads) {\n",
    "            int first = tid * step_size * 2;\n",
    "            int second = first + step_size;\n",
    "            \n",
    "            input[first] += input[second];\n",
    "        }\n",
    "        step_size <<= 1;\n",
    "        number_of_threads >>= 1;\n",
    "       \n",
    "    }\n",
    "}\n",
    "\n",
    "__global__ void mean_diff_sq(float *input, float mean) {\n",
    "    input[threadIdx.x] -= mean;\n",
    "    input[threadIdx.x] *= input[threadIdx.x];\n",
    "}\n",
    "\n",
    "__global__ void sum_floats(float *input) {\n",
    "    int tid = threadIdx.x;\n",
    "    int step_size = 1;\n",
    "    int number_of_threads = blockDim.x;\n",
    "    \n",
    "    while(number_of_threads > 0) {\n",
    "        if(tid < number_of_threads) {\n",
    "            int first = tid * step_size * 2;\n",
    "            int second = first + step_size;\n",
    "            \n",
    "            input[first] += input[second];\n",
    "        }\n",
    "        step_size <<= 1;\n",
    "        number_of_threads >>= 1;\n",
    "       \n",
    "    }\n",
    "}\n",
    "\n",
    "void copy_int_to_float(float *dest, int *src, int size){\n",
    "    for(int i=0; i<size; i++)\n",
    "        dest[i] = float(src[i]);\n",
    "}\n",
    "\n",
    "void random_ints(int *input, int size) {\n",
    "    for(int i=0; i<size; i++)  {\n",
    "        input[i] = rand()%100;\n",
    "        cout<<input[i]<<\"  \";   \n",
    "    }\n",
    "    cout<<endl;\n",
    "\n",
    "}\n",
    "\n",
    "int main() {\n",
    "    //int n=8;\n",
    "    int size = n*sizeof(int); //calculate no. of bytes for array\n",
    "        \n",
    "    int *arr;\n",
    "    int *arr_d, result;\n",
    "   \n",
    "    arr = (int *)malloc(size);\n",
    "    random_ints(arr, n);\n",
    "    \n",
    "    cudaMalloc((void **)&arr_d, size);\n",
    "    \n",
    "    //MIN\n",
    "    cudaMemcpy(arr_d, arr, size, cudaMemcpyHostToDevice);\n",
    "    \n",
    "    minimum<<<1,n/2>>>(arr_d);\n",
    "    \n",
    "    cudaMemcpy(&result, arr_d, sizeof(int), cudaMemcpyDeviceToHost);\n",
    "    \n",
    "    cout<<\"The minimum element is \"<<result<<endl;\n",
    "      \n",
    "       \n",
    "    //MAX\n",
    "    cudaMemcpy(arr_d, arr, size, cudaMemcpyHostToDevice);\n",
    "    \n",
    "    maximum<<<1,n/2>>>(arr_d);\n",
    "    \n",
    "    cudaMemcpy(&result, arr_d, sizeof(int), cudaMemcpyDeviceToHost);\n",
    "    \n",
    "    cout<<\"The maximum element is \"<<result<<endl;\n",
    "    \n",
    "    //SUM\n",
    "    cudaMemcpy(arr_d, arr, size, cudaMemcpyHostToDevice);\n",
    "    \n",
    "    sum<<<1,n/2>>>(arr_d);\n",
    "    \n",
    "    cudaMemcpy(&result, arr_d, sizeof(int), cudaMemcpyDeviceToHost);\n",
    "    \n",
    "    cout<<\"The sum is \"<<result<<endl;\n",
    "    \n",
    "    //AVERAGE\n",
    "    \n",
    "    float mean = float(result)/n;\n",
    "    cout<<\"The mean is \"<<mean<<endl;\n",
    "    \n",
    "    //STANDARD DEVIATION\n",
    "    float *arr_float;\n",
    "    float *arr_std, stdValue;\n",
    "    \n",
    "    arr_float = (float *)malloc(n*sizeof(float));\n",
    "    cudaMalloc((void **)&arr_std, n*sizeof(float));\n",
    "    \n",
    "    copy_int_to_float(arr_float, arr, n);\n",
    "    \n",
    "    cudaMemcpy(arr_std, arr_float, n*sizeof(float), cudaMemcpyHostToDevice);\n",
    "    \n",
    "    mean_diff_sq <<<1,n>>>(arr_std, mean);\n",
    "    sum_floats<<<1,n/2>>>(arr_std);\n",
    "    \n",
    "    cudaMemcpy(&stdValue, arr_std, sizeof(float), cudaMemcpyDeviceToHost);\n",
    "    \n",
    "    \n",
    "    stdValue = stdValue / n;\n",
    "    cout<<\"The variance is \"<<stdValue<<endl;\n",
    "    stdValue = sqrt(stdValue);\n",
    "    \n",
    "    cout<<\"The standard deviation is \"<<stdValue<<endl;\n",
    "    \n",
    "    cudaFree(arr_d);\n",
    "           \n",
    "    return 0;\n",
    "}\n",
    "\"\"\""
   ]
  },
  {
   "cell_type": "code",
   "execution_count": 0,
   "metadata": {
    "colab": {},
    "colab_type": "code",
    "collapsed": true,
    "id": "GzR8W2FBo9KA"
   },
   "outputs": [],
   "source": [
    "text_file = open(\"assign1.cu\", \"w\")\n",
    "text_file.write(code)\n",
    "text_file.close()"
   ]
  },
  {
   "cell_type": "code",
   "execution_count": 0,
   "metadata": {
    "colab": {},
    "colab_type": "code",
    "collapsed": true,
    "id": "wZISxfLkpFV_"
   },
   "outputs": [],
   "source": [
    "!nvcc assign1.cu"
   ]
  },
  {
   "cell_type": "code",
   "execution_count": 16,
   "metadata": {
    "colab": {
     "base_uri": "https://localhost:8080/",
     "height": 136
    },
    "colab_type": "code",
    "id": "lA3ltwJcpJQf",
    "outputId": "130fe193-80bb-4a2e-b3ba-eae68d9a2880"
   },
   "outputs": [
    {
     "name": "stdout",
     "output_type": "stream",
     "text": [
      "96  44  42  49  11  93  82  21  \n",
      "No of threads = 4No of threads = 4No of threads = 4No of threads = 4The minimum element is 11\n",
      "The maximum element is 96\n",
      "The sum is 438\n",
      "The mean is 54.75\n",
      "The variance is 908.938\n",
      "The standard deviation is 30.1486\n"
     ]
    }
   ],
   "source": [
    "!./a.out"
   ]
  },
  {
   "cell_type": "code",
   "execution_count": 0,
   "metadata": {
    "colab": {
     "base_uri": "https://localhost:8080/",
     "height": 493
    },
    "colab_type": "code",
    "id": "J3xpfvdcr1S4",
    "outputId": "b7b1379c-d66e-44f3-bc72-ff87247fed27"
   },
   "outputs": [
    {
     "name": "stdout",
     "output_type": "stream",
     "text": [
      "Enter the no of elements : \n",
      "9295  2008  8678  8725  418  2377  12675  13271  4747  2307  \n",
      "==207== NVPROF is profiling process 207, command: ./a.out\n",
      "The minimum element is 418\n",
      "The minimum element using CPU is 418\n",
      "The maximum element is 13271\n",
      "The sum of elements is 57447\n",
      "The average of elements is 5744\n",
      "==207== Profiling application: ./a.out\n",
      "==207== Profiling result:\n",
      "            Type  Time(%)      Time     Calls       Avg       Min       Max  Name\n",
      " GPU activities:   25.29%  9.0560us         4  2.2640us  2.1120us  2.4320us  [CUDA memcpy DtoH]\n",
      "                   19.93%  7.1360us         4  1.7840us  1.5680us  2.3360us  [CUDA memcpy HtoD]\n",
      "                   14.39%  5.1520us         1  5.1520us  5.1520us  5.1520us  minimum(int*)\n",
      "                   14.21%  5.0880us         1  5.0880us  5.0880us  5.0880us  average(int*)\n",
      "                   13.23%  4.7360us         1  4.7360us  4.7360us  4.7360us  maximum(int*)\n",
      "                   12.96%  4.6400us         1  4.6400us  4.6400us  4.6400us  sum(int*)\n",
      "      API calls:   99.32%  203.75ms         4  50.937ms  14.335us  203.69ms  cudaMalloc\n",
      "                    0.25%  522.04us         1  522.04us  522.04us  522.04us  cuDeviceTotalMem\n",
      "                    0.16%  322.56us        96  3.3590us     149ns  143.34us  cuDeviceGetAttribute\n",
      "                    0.09%  186.70us         8  23.337us  13.865us  32.004us  cudaMemcpy\n",
      "                    0.09%  176.65us         4  44.162us  15.731us  118.65us  cudaLaunchKernel\n",
      "                    0.08%  167.08us         4  41.770us  7.3000us  129.72us  cudaFree\n",
      "                    0.01%  22.228us         1  22.228us  22.228us  22.228us  cuDeviceGetName\n",
      "                    0.00%  4.1730us         1  4.1730us  4.1730us  4.1730us  cuDeviceGetPCIBusId\n",
      "                    0.00%  1.8510us         3     617ns     196ns  1.0580us  cuDeviceGetCount\n",
      "                    0.00%  1.6540us         2     827ns     250ns  1.4040us  cuDeviceGet\n",
      "                    0.00%     333ns         1     333ns     333ns     333ns  cuDeviceGetUuid\n"
     ]
    }
   ],
   "source": [
    "!nvprof ./a.out"
   ]
  },
  {
   "cell_type": "code",
   "execution_count": 0,
   "metadata": {
    "colab": {},
    "colab_type": "code",
    "collapsed": true,
    "id": "oMjIfriIcSuH"
   },
   "outputs": [],
   "source": []
  }
 ],
 "metadata": {
  "accelerator": "GPU",
  "colab": {
   "collapsed_sections": [],
   "name": "ParallelReduc.ipynb",
   "provenance": []
  },
  "kernelspec": {
   "display_name": "Python 3",
   "language": "python",
   "name": "python3"
  },
  "language_info": {
   "codemirror_mode": {
    "name": "ipython",
    "version": 3
   },
   "file_extension": ".py",
   "mimetype": "text/x-python",
   "name": "python",
   "nbconvert_exporter": "python",
   "pygments_lexer": "ipython3",
   "version": "3.7.6"
  }
 },
 "nbformat": 4,
 "nbformat_minor": 1
}
