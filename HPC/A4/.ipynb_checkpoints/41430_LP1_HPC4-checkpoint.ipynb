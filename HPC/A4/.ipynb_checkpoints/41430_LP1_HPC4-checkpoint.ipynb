{
 "cells": [
  {
   "cell_type": "markdown",
   "metadata": {
    "colab_type": "text",
    "id": "dBcL-UrXfqS2"
   },
   "source": [
    "Binary Search\n",
    "\n"
   ]
  },
  {
   "cell_type": "code",
   "execution_count": 47,
   "metadata": {
    "colab": {},
    "colab_type": "code",
    "executionInfo": {
     "elapsed": 1890,
     "status": "ok",
     "timestamp": 1599192055083,
     "user": {
      "displayName": "Keshav Kadam",
      "photoUrl": "https://lh3.googleusercontent.com/a-/AOh14GgjTi_iyuaitH8qSJD5d8Qx-8tae0p_5qqX6gw9Cw=s64",
      "userId": "16511808052294151567"
     },
     "user_tz": -330
    },
    "id": "VZd4tJxoY9Pb"
   },
   "outputs": [],
   "source": [
    "code=\"\"\"\n",
    "#include <bits/stdc++.h> \n",
    "#include<omp.h>\n",
    "using namespace std; \n",
    "int binarySearch(int arr[], int l, int r, int x) \n",
    "{ \n",
    "    #pragma omp parallel for num_threads(10)\n",
    "    for (int i = 0; i <10; i++)   \n",
    "    {\n",
    "        int middle = (r - l)/2;\n",
    "        if (arr[i] == x)  {\n",
    "            ;\n",
    "        }\n",
    "        else if (arr[middle] > x)  {\n",
    "            r = middle - 1;\n",
    "        }\n",
    "        else    {\n",
    "            l = middle + 1;\n",
    "        }\n",
    "    }\n",
    "    return -1;\n",
    "} \n",
    "int main(void) \n",
    "{ \n",
    "\tint a[10];\n",
    "  int x;\n",
    "  double it,h;\n",
    "  it=omp_get_wtime();\n",
    "  srand((unsigned int)time(0));\n",
    "  for(int i=0;i<10;i++)\n",
    "  {\n",
    "    a[i]=rand()%10000;\n",
    "  }\n",
    "  for(int i=0;i<10;i++)\n",
    "  {\n",
    "    cout<<\" \"<<a[i];\n",
    "  }\n",
    "  sort(a,a+10);\n",
    "  cin>>x;\n",
    "\tint n = sizeof(a) / sizeof(a[0]); \n",
    "\tint result = binarySearch(a, 0, n - 1, x); \n",
    "\t(result == -1) ? cout << \"Element is not present in array\"\n",
    "\t\t\t\t: cout << \"Element is present at index \" << result; \n",
    "\th=omp_get_wtime();\n",
    "  cout<<\"Execution Time:\"<<(h-it);\n",
    "  return 0; \n",
    "  \n",
    "} \n",
    "\n",
    "\"\"\""
   ]
  },
  {
   "cell_type": "code",
   "execution_count": 48,
   "metadata": {
    "colab": {},
    "colab_type": "code",
    "executionInfo": {
     "elapsed": 1798,
     "status": "ok",
     "timestamp": 1599192059697,
     "user": {
      "displayName": "Keshav Kadam",
      "photoUrl": "https://lh3.googleusercontent.com/a-/AOh14GgjTi_iyuaitH8qSJD5d8Qx-8tae0p_5qqX6gw9Cw=s64",
      "userId": "16511808052294151567"
     },
     "user_tz": -330
    },
    "id": "29kmYm01Zybd"
   },
   "outputs": [],
   "source": [
    "t=open(\"a.cpp\",\"w\")\n",
    "t.write(code)\n",
    "t.close()"
   ]
  },
  {
   "cell_type": "code",
   "execution_count": 49,
   "metadata": {
    "colab": {
     "base_uri": "https://localhost:8080/",
     "height": 85
    },
    "colab_type": "code",
    "executionInfo": {
     "elapsed": 2001,
     "status": "ok",
     "timestamp": 1599192062901,
     "user": {
      "displayName": "Keshav Kadam",
      "photoUrl": "https://lh3.googleusercontent.com/a-/AOh14GgjTi_iyuaitH8qSJD5d8Qx-8tae0p_5qqX6gw9Cw=s64",
      "userId": "16511808052294151567"
     },
     "user_tz": -330
    },
    "id": "MZUIfGKaZ40x",
    "outputId": "3469c68e-2c96-43bd-d6f4-07fe622afba5"
   },
   "outputs": [
    {
     "name": "stdout",
     "output_type": "stream",
     "text": [
      "\u001b[01m\u001b[Ka.cpp:\u001b[m\u001b[K In function ‘\u001b[01m\u001b[Kint binarySearch(int*, int, int, int)\u001b[m\u001b[K’:\n",
      "\u001b[01m\u001b[Ka.cpp:12:25:\u001b[m\u001b[K \u001b[01;31m\u001b[Kerror: \u001b[m\u001b[Kinvalid exit from OpenMP structured block\n",
      "             return arr[i\u001b[01;31m\u001b[K]\u001b[m\u001b[K;\n",
      "                         \u001b[01;31m\u001b[K^\u001b[m\u001b[K\n"
     ]
    }
   ],
   "source": [
    "!g++ -fopenmp a.cpp"
   ]
  },
  {
   "cell_type": "code",
   "execution_count": 34,
   "metadata": {
    "colab": {
     "base_uri": "https://localhost:8080/",
     "height": 51
    },
    "colab_type": "code",
    "executionInfo": {
     "elapsed": 8437,
     "status": "ok",
     "timestamp": 1599191155815,
     "user": {
      "displayName": "Keshav Kadam",
      "photoUrl": "https://lh3.googleusercontent.com/a-/AOh14GgjTi_iyuaitH8qSJD5d8Qx-8tae0p_5qqX6gw9Cw=s64",
      "userId": "16511808052294151567"
     },
     "user_tz": -330
    },
    "id": "uiwXjNSSaoSn",
    "outputId": "4c503c71-c1ee-4f73-912e-bd523c91947c"
   },
   "outputs": [
    {
     "name": "stdout",
     "output_type": "stream",
     "text": [
      " 713 9817 8616 6597 6518 3062 8880 5073 2698 81339817\n",
      "Element is present at index 9"
     ]
    }
   ],
   "source": [
    "!./a.out"
   ]
  },
  {
   "cell_type": "markdown",
   "metadata": {
    "colab_type": "text",
    "id": "O1AoWoF0fu-M"
   },
   "source": [
    "Best First Search\n"
   ]
  },
  {
   "cell_type": "code",
   "execution_count": null,
   "metadata": {
    "colab": {},
    "colab_type": "code",
    "id": "dK49L8JHfzDM"
   },
   "outputs": [],
   "source": [
    "code1=\"\"\"\n",
    "#include<iostream>\n",
    "#include<omp.h>\n",
    "using namespace std;\n",
    "int q[100];\n",
    "int visited[7];\n",
    "int local_q;\n",
    "void bfs(int adj_matrix[7][7], int first, int last, int q[], int n_nodes) \n",
    "{\n",
    "    if(first==last)\n",
    "      return;   \n",
    "    int cur_node = q[first++];\n",
    "    cout<<\"  \"<<cur_node;\n",
    "    omp_set_num_threads(3);\n",
    "    #pragma omp parallel for shared(visited)\n",
    "    for(int i=0; i<n_nodes; i++) \n",
    "    {\n",
    "        if(adj_matrix[cur_node][i] == 1 && visited[i] == 0)\n",
    "        {\n",
    "            q[last++] = i;\n",
    "            visited[i] = 1;\n",
    "        }\n",
    "    }\n",
    "    bfs(adj_matrix, first, last, q, n_nodes);\n",
    "}\n",
    "int main() \n",
    "{\n",
    "    int first = -1;\n",
    "    int last = 0;\n",
    "    int n_nodes = 7;    \n",
    "    for(int i=0; i<n_nodes; i++) \n",
    "    {\n",
    "        visited[i] = 0;\n",
    "    }\n",
    "    int adj_matrix[7][7] = \n",
    "    {\n",
    "      {0, 1, 1, 0, 0, 0, 0},\n",
    "      {1, 0, 1, 1, 0, 0, 0},\n",
    "      {1, 1, 0, 0, 1, 0, 0},\n",
    "      {0, 1, 0, 0, 1, 0, 0},\n",
    "      {0, 0, 1, 1, 0, 1, 0},\n",
    "      {0, 0, 0, 0, 1, 0, 1},\n",
    "      {0, 0, 0, 0, 0, 1, 0}\n",
    "    };\n",
    "    int start_node = 3;\n",
    "    q[last++] = start_node;\n",
    "    first++;\n",
    "    visited[start_node] = 1;\n",
    "    bfs(adj_matrix, first, last, q, n_nodes);\n",
    "    return 0;\n",
    "}\n",
    "\"\"\""
   ]
  },
  {
   "cell_type": "code",
   "execution_count": null,
   "metadata": {
    "colab": {},
    "colab_type": "code",
    "id": "NJDAlELKgH1o"
   },
   "outputs": [],
   "source": [
    "t1=open(\"b.cpp\",\"w\")\n",
    "t1.write(code1)\n",
    "t1.close()"
   ]
  },
  {
   "cell_type": "code",
   "execution_count": null,
   "metadata": {
    "colab": {},
    "colab_type": "code",
    "id": "xCIKOz9kgPhK"
   },
   "outputs": [],
   "source": [
    "!g++ -fopenmp b.cpp"
   ]
  },
  {
   "cell_type": "code",
   "execution_count": null,
   "metadata": {
    "colab": {
     "base_uri": "https://localhost:8080/",
     "height": 34
    },
    "colab_type": "code",
    "executionInfo": {
     "elapsed": 1065,
     "status": "ok",
     "timestamp": 1598843651406,
     "user": {
      "displayName": "Keshav Kadam",
      "photoUrl": "https://lh3.googleusercontent.com/a-/AOh14GgjTi_iyuaitH8qSJD5d8Qx-8tae0p_5qqX6gw9Cw=s64",
      "userId": "16511808052294151567"
     },
     "user_tz": -330
    },
    "id": "A8968_rggIU0",
    "outputId": "883317bf-ff33-4d06-bbe9-af4f1cf74543"
   },
   "outputs": [
    {
     "name": "stdout",
     "output_type": "stream",
     "text": [
      "  3  1  4  0  2  5  6"
     ]
    }
   ],
   "source": [
    "!./a.out"
   ]
  }
 ],
 "metadata": {
  "colab": {
   "authorship_tag": "ABX9TyNZc06kzlK9D3tD3Yo0xxCh",
   "collapsed_sections": [],
   "name": "HPC4.ipynb",
   "provenance": []
  },
  "kernelspec": {
   "display_name": "Python 3",
   "language": "python",
   "name": "python3"
  },
  "language_info": {
   "codemirror_mode": {
    "name": "ipython",
    "version": 3
   },
   "file_extension": ".py",
   "mimetype": "text/x-python",
   "name": "python",
   "nbconvert_exporter": "python",
   "pygments_lexer": "ipython3",
   "version": "3.7.6"
  }
 },
 "nbformat": 4,
 "nbformat_minor": 1
}
