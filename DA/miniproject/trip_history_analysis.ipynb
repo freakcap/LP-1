{
  "nbformat": 4,
  "nbformat_minor": 0,
  "metadata": {
    "kernelspec": {
      "name": "python3",
      "display_name": "Python 3",
      "language": "python"
    },
    "language_info": {
      "name": "python",
      "version": "3.7.6",
      "mimetype": "text/x-python",
      "codemirror_mode": {
        "name": "ipython",
        "version": 3
      },
      "pygments_lexer": "ipython3",
      "nbconvert_exporter": "python",
      "file_extension": ".py"
    },
    "colab": {
      "name": "trip-history-analysis.ipynb",
      "provenance": []
    }
  },
  "cells": [
    {
      "cell_type": "code",
      "metadata": {
        "_uuid": "8f2839f25d086af736a60e9eeb907d3b93b6e0e5",
        "_cell_guid": "b1076dfc-b9ad-4769-8c92-a6c4dae69d19",
        "trusted": true,
        "id": "VvG23XNge2Wk"
      },
      "source": [
        "# This Python 3 environment comes with many helpful analytics libraries installed\n",
        "# It is defined by the kaggle/python Docker image: https://github.com/kaggle/docker-python\n",
        "# For example, here's several helpful packages to load\n",
        "\n",
        "import numpy as np # linear algebra\n",
        "import pandas as pd # data processing, CSV file I/O (e.g. pd.read_csv)\n",
        "\n",
        "# Input data files are available in the read-only \"../input/\" directory\n",
        "# For example, running this (by clicking run or pressing Shift+Enter) will list all files under the input directory\n",
        "\n",
        "# import os\n",
        "# for dirname, _, filenames in os.walk('/kaggle/input'):\n",
        "#     for filename in filenames:\n",
        "#         print(os.path.join(dirname, filename))\n",
        "\n",
        "# You can write up to 20GB to the current directory (/kaggle/working/) that gets preserved as output when you create a version using \"Save & Run All\" \n",
        "# You can also write temporary files to /kaggle/temp/, but they won't be saved outside of the current session"
      ],
      "execution_count": 50,
      "outputs": []
    },
    {
      "cell_type": "code",
      "metadata": {
        "trusted": true,
        "id": "BzvcOaxee2Wk"
      },
      "source": [
        ""
      ],
      "execution_count": 50,
      "outputs": []
    },
    {
      "cell_type": "code",
      "metadata": {
        "_uuid": "d629ff2d2480ee46fbb7e2d37f6b5fab8052498a",
        "_cell_guid": "79c7e3d0-c299-4dcb-8224-4455121ee9b0",
        "trusted": true,
        "id": "ed7RQqzVe2Wk"
      },
      "source": [
        "import pandas as pd\n",
        "import matplotlib.pyplot as plt"
      ],
      "execution_count": 51,
      "outputs": []
    },
    {
      "cell_type": "code",
      "metadata": {
        "trusted": true,
        "colab": {
          "base_uri": "https://localhost:8080/"
        },
        "id": "_KALDq-Be2Wk",
        "outputId": "88ffe08f-7364-45ff-8e46-8f249f7daa19"
      },
      "source": [
        "# data = pd.read_csv('../input/timeseries/Train_SU63ISt.csv')\n",
        "# data.head()\n",
        "\n",
        "!wget https://s3.amazonaws.com/capitalbikeshare-data/2017-capitalbikeshare-tripdata.zip\n"
      ],
      "execution_count": 52,
      "outputs": [
        {
          "output_type": "stream",
          "text": [
            "y\n",
            "--2020-12-04 07:21:37--  https://s3.amazonaws.com/capitalbikeshare-data/2017-capitalbikeshare-tripdata.zip\n",
            "Resolving s3.amazonaws.com (s3.amazonaws.com)... 52.217.1.6\n",
            "Connecting to s3.amazonaws.com (s3.amazonaws.com)|52.217.1.6|:443... connected.\n",
            "HTTP request sent, awaiting response... 200 OK\n",
            "Length: 89576218 (85M) [application/zip]\n",
            "Saving to: ‘2017-capitalbikeshare-tripdata.zip.2’\n",
            "\n",
            "2017-capitalbikesha 100%[===================>]  85.43M  15.6MB/s    in 6.7s    \n",
            "\n",
            "2020-12-04 07:21:45 (12.7 MB/s) - ‘2017-capitalbikeshare-tripdata.zip.2’ saved [89576218/89576218]\n",
            "\n"
          ],
          "name": "stdout"
        }
      ]
    },
    {
      "cell_type": "code",
      "metadata": {
        "colab": {
          "base_uri": "https://localhost:8080/"
        },
        "id": "1eO43RNef_0O",
        "outputId": "b80549f9-6fe2-496d-9b14-ba2036f5aae4"
      },
      "source": [
        "!unzip 2017-capitalbikeshare-tripdata.zip"
      ],
      "execution_count": 53,
      "outputs": [
        {
          "output_type": "stream",
          "text": [
            "Archive:  2017-capitalbikeshare-tripdata.zip\n",
            "replace 2017Q1-capitalbikeshare-tripdata.csv? [y]es, [n]o, [A]ll, [N]one, [r]ename: y\n",
            "  inflating: 2017Q1-capitalbikeshare-tripdata.csv  \n",
            "replace 2017Q2-capitalbikeshare-tripdata.csv? [y]es, [n]o, [A]ll, [N]one, [r]ename: y\n",
            "  inflating: 2017Q2-capitalbikeshare-tripdata.csv  \n",
            "replace 2017Q3-capitalbikeshare-tripdata.csv? [y]es, [n]o, [A]ll, [N]one, [r]ename: y\n",
            "  inflating: 2017Q3-capitalbikeshare-tripdata.csv  \n",
            "replace 2017Q4-capitalbikeshare-tripdata.csv? [y]es, [n]o, [A]ll, [N]one, [r]ename: y\n",
            "  inflating: 2017Q4-capitalbikeshare-tripdata.csv  \n"
          ],
          "name": "stdout"
        }
      ]
    },
    {
      "cell_type": "code",
      "metadata": {
        "colab": {
          "base_uri": "https://localhost:8080/"
        },
        "id": "Qkxt2vtdgMMY",
        "outputId": "0e8545c7-c79d-42f6-ed1d-1ad8a43f0c3c"
      },
      "source": [
        "!ls"
      ],
      "execution_count": 54,
      "outputs": [
        {
          "output_type": "stream",
          "text": [
            "2017-capitalbikeshare-tripdata.zip    2017Q2-capitalbikeshare-tripdata.csv\n",
            "2017-capitalbikeshare-tripdata.zip.1  2017Q3-capitalbikeshare-tripdata.csv\n",
            "2017-capitalbikeshare-tripdata.zip.2  2017Q4-capitalbikeshare-tripdata.csv\n",
            "2017Q1-capitalbikeshare-tripdata.csv  sample_data\n"
          ],
          "name": "stdout"
        }
      ]
    },
    {
      "cell_type": "code",
      "metadata": {
        "trusted": true,
        "id": "_mYPIMoYe2Wk"
      },
      "source": [
        "data = pd.read_csv('2017Q1-capitalbikeshare-tripdata.csv')\n",
        "# data_q1 = pd.read_csv('../input/trip-history-2017/2017Q1-capitalbikeshare-tripdata.csv')\n",
        "# data_q2 = pd.read_csv('../input/trip-history-2017/2017Q2-capitalbikeshare-tripdata.csv')\n",
        "# data_q3 = pd.read_csv('../input/trip-history-2017/2017Q3-capitalbikeshare-tripdata.csv')\n",
        "# data_q4 = pd.read_csv('../input/trip-history-2017/2017Q4-capitalbikeshare-tripdata.csv')"
      ],
      "execution_count": 55,
      "outputs": []
    },
    {
      "cell_type": "code",
      "metadata": {
        "trusted": true,
        "id": "RmrqYUeke2Wk"
      },
      "source": [
        "# data_q1.head()"
      ],
      "execution_count": 56,
      "outputs": []
    },
    {
      "cell_type": "code",
      "metadata": {
        "trusted": true,
        "id": "DIiVd4Cie2Wl"
      },
      "source": [
        "# data_q2.head()"
      ],
      "execution_count": 57,
      "outputs": []
    },
    {
      "cell_type": "code",
      "metadata": {
        "trusted": true,
        "colab": {
          "base_uri": "https://localhost:8080/",
          "height": 306
        },
        "id": "dK70lRe7e2Wl",
        "outputId": "8c23918a-8f76-4839-cfeb-badb3bce458c"
      },
      "source": [
        "# data=pd.concat([data_q1,data_q2,data_q3,data_q4], ignore_index=True)\n",
        "# data=pd.concat([data_q1,data_q2], ignore_index=True)\n",
        "data.head()"
      ],
      "execution_count": 58,
      "outputs": [
        {
          "output_type": "execute_result",
          "data": {
            "text/html": [
              "<div>\n",
              "<style scoped>\n",
              "    .dataframe tbody tr th:only-of-type {\n",
              "        vertical-align: middle;\n",
              "    }\n",
              "\n",
              "    .dataframe tbody tr th {\n",
              "        vertical-align: top;\n",
              "    }\n",
              "\n",
              "    .dataframe thead th {\n",
              "        text-align: right;\n",
              "    }\n",
              "</style>\n",
              "<table border=\"1\" class=\"dataframe\">\n",
              "  <thead>\n",
              "    <tr style=\"text-align: right;\">\n",
              "      <th></th>\n",
              "      <th>Duration</th>\n",
              "      <th>Start date</th>\n",
              "      <th>End date</th>\n",
              "      <th>Start station number</th>\n",
              "      <th>Start station</th>\n",
              "      <th>End station number</th>\n",
              "      <th>End station</th>\n",
              "      <th>Bike number</th>\n",
              "      <th>Member type</th>\n",
              "    </tr>\n",
              "  </thead>\n",
              "  <tbody>\n",
              "    <tr>\n",
              "      <th>0</th>\n",
              "      <td>221</td>\n",
              "      <td>2017-01-01 00:00:41</td>\n",
              "      <td>2017-01-01 00:04:23</td>\n",
              "      <td>31634</td>\n",
              "      <td>3rd &amp; Tingey St SE</td>\n",
              "      <td>31208</td>\n",
              "      <td>M St &amp; New Jersey Ave SE</td>\n",
              "      <td>W00869</td>\n",
              "      <td>Member</td>\n",
              "    </tr>\n",
              "    <tr>\n",
              "      <th>1</th>\n",
              "      <td>1676</td>\n",
              "      <td>2017-01-01 00:06:53</td>\n",
              "      <td>2017-01-01 00:34:49</td>\n",
              "      <td>31258</td>\n",
              "      <td>Lincoln Memorial</td>\n",
              "      <td>31270</td>\n",
              "      <td>8th &amp; D St NW</td>\n",
              "      <td>W00894</td>\n",
              "      <td>Casual</td>\n",
              "    </tr>\n",
              "    <tr>\n",
              "      <th>2</th>\n",
              "      <td>1356</td>\n",
              "      <td>2017-01-01 00:07:10</td>\n",
              "      <td>2017-01-01 00:29:47</td>\n",
              "      <td>31289</td>\n",
              "      <td>Henry Bacon Dr &amp; Lincoln Memorial Circle NW</td>\n",
              "      <td>31222</td>\n",
              "      <td>New York Ave &amp; 15th St NW</td>\n",
              "      <td>W21945</td>\n",
              "      <td>Casual</td>\n",
              "    </tr>\n",
              "    <tr>\n",
              "      <th>3</th>\n",
              "      <td>1327</td>\n",
              "      <td>2017-01-01 00:07:22</td>\n",
              "      <td>2017-01-01 00:29:30</td>\n",
              "      <td>31289</td>\n",
              "      <td>Henry Bacon Dr &amp; Lincoln Memorial Circle NW</td>\n",
              "      <td>31222</td>\n",
              "      <td>New York Ave &amp; 15th St NW</td>\n",
              "      <td>W20012</td>\n",
              "      <td>Casual</td>\n",
              "    </tr>\n",
              "    <tr>\n",
              "      <th>4</th>\n",
              "      <td>1636</td>\n",
              "      <td>2017-01-01 00:07:36</td>\n",
              "      <td>2017-01-01 00:34:52</td>\n",
              "      <td>31258</td>\n",
              "      <td>Lincoln Memorial</td>\n",
              "      <td>31270</td>\n",
              "      <td>8th &amp; D St NW</td>\n",
              "      <td>W22786</td>\n",
              "      <td>Casual</td>\n",
              "    </tr>\n",
              "  </tbody>\n",
              "</table>\n",
              "</div>"
            ],
            "text/plain": [
              "   Duration           Start date  ... Bike number  Member type\n",
              "0       221  2017-01-01 00:00:41  ...      W00869       Member\n",
              "1      1676  2017-01-01 00:06:53  ...      W00894       Casual\n",
              "2      1356  2017-01-01 00:07:10  ...      W21945       Casual\n",
              "3      1327  2017-01-01 00:07:22  ...      W20012       Casual\n",
              "4      1636  2017-01-01 00:07:36  ...      W22786       Casual\n",
              "\n",
              "[5 rows x 9 columns]"
            ]
          },
          "metadata": {
            "tags": []
          },
          "execution_count": 58
        }
      ]
    },
    {
      "cell_type": "code",
      "metadata": {
        "trusted": true,
        "colab": {
          "base_uri": "https://localhost:8080/"
        },
        "id": "xGK2YIPQe2Wl",
        "outputId": "628ec760-8dbe-412d-8fde-761cdfaad723"
      },
      "source": [
        "data.shape"
      ],
      "execution_count": 59,
      "outputs": [
        {
          "output_type": "execute_result",
          "data": {
            "text/plain": [
              "(646510, 9)"
            ]
          },
          "metadata": {
            "tags": []
          },
          "execution_count": 59
        }
      ]
    },
    {
      "cell_type": "code",
      "metadata": {
        "trusted": true,
        "colab": {
          "base_uri": "https://localhost:8080/",
          "height": 49
        },
        "id": "jqdiKY3Ie2Wl",
        "outputId": "ae90b6ca-5292-43c6-f087-18930a86f949"
      },
      "source": [
        "data[data['End date']<data['Start date']]"
      ],
      "execution_count": 60,
      "outputs": [
        {
          "output_type": "execute_result",
          "data": {
            "text/html": [
              "<div>\n",
              "<style scoped>\n",
              "    .dataframe tbody tr th:only-of-type {\n",
              "        vertical-align: middle;\n",
              "    }\n",
              "\n",
              "    .dataframe tbody tr th {\n",
              "        vertical-align: top;\n",
              "    }\n",
              "\n",
              "    .dataframe thead th {\n",
              "        text-align: right;\n",
              "    }\n",
              "</style>\n",
              "<table border=\"1\" class=\"dataframe\">\n",
              "  <thead>\n",
              "    <tr style=\"text-align: right;\">\n",
              "      <th></th>\n",
              "      <th>Duration</th>\n",
              "      <th>Start date</th>\n",
              "      <th>End date</th>\n",
              "      <th>Start station number</th>\n",
              "      <th>Start station</th>\n",
              "      <th>End station number</th>\n",
              "      <th>End station</th>\n",
              "      <th>Bike number</th>\n",
              "      <th>Member type</th>\n",
              "    </tr>\n",
              "  </thead>\n",
              "  <tbody>\n",
              "  </tbody>\n",
              "</table>\n",
              "</div>"
            ],
            "text/plain": [
              "Empty DataFrame\n",
              "Columns: [Duration, Start date, End date, Start station number, Start station, End station number, End station, Bike number, Member type]\n",
              "Index: []"
            ]
          },
          "metadata": {
            "tags": []
          },
          "execution_count": 60
        }
      ]
    },
    {
      "cell_type": "code",
      "metadata": {
        "trusted": true,
        "colab": {
          "base_uri": "https://localhost:8080/"
        },
        "id": "YpZq1QgGe2Wl",
        "outputId": "3193b988-c2e5-4037-f522-3daa4e578012"
      },
      "source": [
        "data = data[data['End date']>=data['Start date']]\n",
        "len(data)"
      ],
      "execution_count": 61,
      "outputs": [
        {
          "output_type": "execute_result",
          "data": {
            "text/plain": [
              "646510"
            ]
          },
          "metadata": {
            "tags": []
          },
          "execution_count": 61
        }
      ]
    },
    {
      "cell_type": "code",
      "metadata": {
        "trusted": true,
        "colab": {
          "base_uri": "https://localhost:8080/"
        },
        "id": "TwCN64d0e2Wl",
        "outputId": "c253b4aa-74d9-4da5-ca72-7ab6b01e62fb"
      },
      "source": [
        "data.dtypes"
      ],
      "execution_count": 62,
      "outputs": [
        {
          "output_type": "execute_result",
          "data": {
            "text/plain": [
              "Duration                 int64\n",
              "Start date              object\n",
              "End date                object\n",
              "Start station number     int64\n",
              "Start station           object\n",
              "End station number       int64\n",
              "End station             object\n",
              "Bike number             object\n",
              "Member type             object\n",
              "dtype: object"
            ]
          },
          "metadata": {
            "tags": []
          },
          "execution_count": 62
        }
      ]
    },
    {
      "cell_type": "code",
      "metadata": {
        "trusted": true,
        "id": "geKpr6jre2Wl"
      },
      "source": [
        "data['Start date']= pd.to_datetime(data['Start date'],format='%Y-%m-%d %H:%M:%S')\n",
        "data['End date']= pd.to_datetime(data['End date'],format='%Y-%m-%d %H:%M:%S')\n"
      ],
      "execution_count": 63,
      "outputs": []
    },
    {
      "cell_type": "code",
      "metadata": {
        "trusted": true,
        "colab": {
          "base_uri": "https://localhost:8080/"
        },
        "id": "OQdl58gXe2Wl",
        "outputId": "a0f88e71-1685-4b2f-dee8-112bbcc9400e"
      },
      "source": [
        "data.dtypes"
      ],
      "execution_count": 64,
      "outputs": [
        {
          "output_type": "execute_result",
          "data": {
            "text/plain": [
              "Duration                         int64\n",
              "Start date              datetime64[ns]\n",
              "End date                datetime64[ns]\n",
              "Start station number             int64\n",
              "Start station                   object\n",
              "End station number               int64\n",
              "End station                     object\n",
              "Bike number                     object\n",
              "Member type                     object\n",
              "dtype: object"
            ]
          },
          "metadata": {
            "tags": []
          },
          "execution_count": 64
        }
      ]
    },
    {
      "cell_type": "code",
      "metadata": {
        "trusted": true,
        "id": "TZhOjqXAe2Wl"
      },
      "source": [
        "data['Start_year'] = data['Start date'].dt.year\n",
        "data['Start_month'] = data['Start date'].dt.month\n",
        "data['Start_day'] = data['Start date'].dt.day\n",
        "data['Start_hour'] = data['Start date'].dt.hour\n",
        "data['Start_minute'] = data['Start date'].dt.minute\n",
        "data['Start_second']  =data['Start date'].dt.second"
      ],
      "execution_count": 65,
      "outputs": []
    },
    {
      "cell_type": "code",
      "metadata": {
        "trusted": true,
        "id": "RUyXezs6e2Wl"
      },
      "source": [
        "data['End_year'] = data['End date'].dt.year\n",
        "data['End_month'] = data['End date'].dt.month\n",
        "data['End_day'] = data['End date'].dt.day\n",
        "data['End_hour'] = data['End date'].dt.hour\n",
        "data['End_minute'] = data['End date'].dt.minute\n",
        "data['End_second']  =data['End date'].dt.second"
      ],
      "execution_count": 66,
      "outputs": []
    },
    {
      "cell_type": "code",
      "metadata": {
        "trusted": true,
        "colab": {
          "base_uri": "https://localhost:8080/",
          "height": 551
        },
        "id": "0kKv1_aue2Wl",
        "outputId": "39fc980c-2f05-49d7-d45c-5be42239702e"
      },
      "source": [
        "data.head(5)"
      ],
      "execution_count": 67,
      "outputs": [
        {
          "output_type": "execute_result",
          "data": {
            "text/html": [
              "<div>\n",
              "<style scoped>\n",
              "    .dataframe tbody tr th:only-of-type {\n",
              "        vertical-align: middle;\n",
              "    }\n",
              "\n",
              "    .dataframe tbody tr th {\n",
              "        vertical-align: top;\n",
              "    }\n",
              "\n",
              "    .dataframe thead th {\n",
              "        text-align: right;\n",
              "    }\n",
              "</style>\n",
              "<table border=\"1\" class=\"dataframe\">\n",
              "  <thead>\n",
              "    <tr style=\"text-align: right;\">\n",
              "      <th></th>\n",
              "      <th>Duration</th>\n",
              "      <th>Start date</th>\n",
              "      <th>End date</th>\n",
              "      <th>Start station number</th>\n",
              "      <th>Start station</th>\n",
              "      <th>End station number</th>\n",
              "      <th>End station</th>\n",
              "      <th>Bike number</th>\n",
              "      <th>Member type</th>\n",
              "      <th>Start_year</th>\n",
              "      <th>Start_month</th>\n",
              "      <th>Start_day</th>\n",
              "      <th>Start_hour</th>\n",
              "      <th>Start_minute</th>\n",
              "      <th>Start_second</th>\n",
              "      <th>End_year</th>\n",
              "      <th>End_month</th>\n",
              "      <th>End_day</th>\n",
              "      <th>End_hour</th>\n",
              "      <th>End_minute</th>\n",
              "      <th>End_second</th>\n",
              "    </tr>\n",
              "  </thead>\n",
              "  <tbody>\n",
              "    <tr>\n",
              "      <th>0</th>\n",
              "      <td>221</td>\n",
              "      <td>2017-01-01 00:00:41</td>\n",
              "      <td>2017-01-01 00:04:23</td>\n",
              "      <td>31634</td>\n",
              "      <td>3rd &amp; Tingey St SE</td>\n",
              "      <td>31208</td>\n",
              "      <td>M St &amp; New Jersey Ave SE</td>\n",
              "      <td>W00869</td>\n",
              "      <td>Member</td>\n",
              "      <td>2017</td>\n",
              "      <td>1</td>\n",
              "      <td>1</td>\n",
              "      <td>0</td>\n",
              "      <td>0</td>\n",
              "      <td>41</td>\n",
              "      <td>2017</td>\n",
              "      <td>1</td>\n",
              "      <td>1</td>\n",
              "      <td>0</td>\n",
              "      <td>4</td>\n",
              "      <td>23</td>\n",
              "    </tr>\n",
              "    <tr>\n",
              "      <th>1</th>\n",
              "      <td>1676</td>\n",
              "      <td>2017-01-01 00:06:53</td>\n",
              "      <td>2017-01-01 00:34:49</td>\n",
              "      <td>31258</td>\n",
              "      <td>Lincoln Memorial</td>\n",
              "      <td>31270</td>\n",
              "      <td>8th &amp; D St NW</td>\n",
              "      <td>W00894</td>\n",
              "      <td>Casual</td>\n",
              "      <td>2017</td>\n",
              "      <td>1</td>\n",
              "      <td>1</td>\n",
              "      <td>0</td>\n",
              "      <td>6</td>\n",
              "      <td>53</td>\n",
              "      <td>2017</td>\n",
              "      <td>1</td>\n",
              "      <td>1</td>\n",
              "      <td>0</td>\n",
              "      <td>34</td>\n",
              "      <td>49</td>\n",
              "    </tr>\n",
              "    <tr>\n",
              "      <th>2</th>\n",
              "      <td>1356</td>\n",
              "      <td>2017-01-01 00:07:10</td>\n",
              "      <td>2017-01-01 00:29:47</td>\n",
              "      <td>31289</td>\n",
              "      <td>Henry Bacon Dr &amp; Lincoln Memorial Circle NW</td>\n",
              "      <td>31222</td>\n",
              "      <td>New York Ave &amp; 15th St NW</td>\n",
              "      <td>W21945</td>\n",
              "      <td>Casual</td>\n",
              "      <td>2017</td>\n",
              "      <td>1</td>\n",
              "      <td>1</td>\n",
              "      <td>0</td>\n",
              "      <td>7</td>\n",
              "      <td>10</td>\n",
              "      <td>2017</td>\n",
              "      <td>1</td>\n",
              "      <td>1</td>\n",
              "      <td>0</td>\n",
              "      <td>29</td>\n",
              "      <td>47</td>\n",
              "    </tr>\n",
              "    <tr>\n",
              "      <th>3</th>\n",
              "      <td>1327</td>\n",
              "      <td>2017-01-01 00:07:22</td>\n",
              "      <td>2017-01-01 00:29:30</td>\n",
              "      <td>31289</td>\n",
              "      <td>Henry Bacon Dr &amp; Lincoln Memorial Circle NW</td>\n",
              "      <td>31222</td>\n",
              "      <td>New York Ave &amp; 15th St NW</td>\n",
              "      <td>W20012</td>\n",
              "      <td>Casual</td>\n",
              "      <td>2017</td>\n",
              "      <td>1</td>\n",
              "      <td>1</td>\n",
              "      <td>0</td>\n",
              "      <td>7</td>\n",
              "      <td>22</td>\n",
              "      <td>2017</td>\n",
              "      <td>1</td>\n",
              "      <td>1</td>\n",
              "      <td>0</td>\n",
              "      <td>29</td>\n",
              "      <td>30</td>\n",
              "    </tr>\n",
              "    <tr>\n",
              "      <th>4</th>\n",
              "      <td>1636</td>\n",
              "      <td>2017-01-01 00:07:36</td>\n",
              "      <td>2017-01-01 00:34:52</td>\n",
              "      <td>31258</td>\n",
              "      <td>Lincoln Memorial</td>\n",
              "      <td>31270</td>\n",
              "      <td>8th &amp; D St NW</td>\n",
              "      <td>W22786</td>\n",
              "      <td>Casual</td>\n",
              "      <td>2017</td>\n",
              "      <td>1</td>\n",
              "      <td>1</td>\n",
              "      <td>0</td>\n",
              "      <td>7</td>\n",
              "      <td>36</td>\n",
              "      <td>2017</td>\n",
              "      <td>1</td>\n",
              "      <td>1</td>\n",
              "      <td>0</td>\n",
              "      <td>34</td>\n",
              "      <td>52</td>\n",
              "    </tr>\n",
              "  </tbody>\n",
              "</table>\n",
              "</div>"
            ],
            "text/plain": [
              "   Duration          Start date  ... End_minute  End_second\n",
              "0       221 2017-01-01 00:00:41  ...          4          23\n",
              "1      1676 2017-01-01 00:06:53  ...         34          49\n",
              "2      1356 2017-01-01 00:07:10  ...         29          47\n",
              "3      1327 2017-01-01 00:07:22  ...         29          30\n",
              "4      1636 2017-01-01 00:07:36  ...         34          52\n",
              "\n",
              "[5 rows x 21 columns]"
            ]
          },
          "metadata": {
            "tags": []
          },
          "execution_count": 67
        }
      ]
    },
    {
      "cell_type": "code",
      "metadata": {
        "trusted": true,
        "colab": {
          "base_uri": "https://localhost:8080/",
          "height": 369
        },
        "id": "flZUxeUSe2Wl",
        "outputId": "1ca75c38-f651-498f-c434-a1873836e86e"
      },
      "source": [
        "plt.hist(data['Duration'])"
      ],
      "execution_count": 68,
      "outputs": [
        {
          "output_type": "execute_result",
          "data": {
            "text/plain": [
              "(array([6.42252e+05, 3.30000e+03, 3.85000e+02, 1.42000e+02, 8.40000e+01,\n",
              "        7.90000e+01, 8.00000e+01, 4.50000e+01, 6.90000e+01, 7.40000e+01]),\n",
              " array([6.00000e+01, 8.66060e+03, 1.72612e+04, 2.58618e+04, 3.44624e+04,\n",
              "        4.30630e+04, 5.16636e+04, 6.02642e+04, 6.88648e+04, 7.74654e+04,\n",
              "        8.60660e+04]),\n",
              " <a list of 10 Patch objects>)"
            ]
          },
          "metadata": {
            "tags": []
          },
          "execution_count": 68
        },
        {
          "output_type": "display_data",
          "data": {
            "image/png": "[encoded data removed]",
            "text/plain": [
              "<Figure size 432x288 with 1 Axes>"
            ]
          },
          "metadata": {
            "tags": [],
            "needs_background": "light"
          }
        }
      ]
    },
    {
      "cell_type": "code",
      "metadata": {
        "trusted": true,
        "colab": {
          "base_uri": "https://localhost:8080/"
        },
        "id": "3LK5enbAe2Wl",
        "outputId": "b8b05432-911c-4eab-8390-cea35dafcae3"
      },
      "source": [
        "data.Duration.mean()"
      ],
      "execution_count": 69,
      "outputs": [
        {
          "output_type": "execute_result",
          "data": {
            "text/plain": [
              "1010.4449490340444"
            ]
          },
          "metadata": {
            "tags": []
          },
          "execution_count": 69
        }
      ]
    },
    {
      "cell_type": "code",
      "metadata": {
        "trusted": true,
        "colab": {
          "base_uri": "https://localhost:8080/"
        },
        "id": "Z9L0-d8ve2Wl",
        "outputId": "e84553aa-28e6-48ac-9eef-5bbf69ac33a0"
      },
      "source": [
        "data['Member type'].unique()"
      ],
      "execution_count": 70,
      "outputs": [
        {
          "output_type": "execute_result",
          "data": {
            "text/plain": [
              "array(['Member', 'Casual'], dtype=object)"
            ]
          },
          "metadata": {
            "tags": []
          },
          "execution_count": 70
        }
      ]
    },
    {
      "cell_type": "code",
      "metadata": {
        "trusted": true,
        "id": "8l70CnQqe2Wl"
      },
      "source": [
        "data=data.drop(columns=['Start_year','End_year'])"
      ],
      "execution_count": 71,
      "outputs": []
    },
    {
      "cell_type": "code",
      "metadata": {
        "trusted": true,
        "colab": {
          "base_uri": "https://localhost:8080/",
          "height": 551
        },
        "id": "27yqLSFme2Wl",
        "outputId": "53604a68-6669-4d40-bd11-89de6b06d8a9"
      },
      "source": [
        "data.head()"
      ],
      "execution_count": 72,
      "outputs": [
        {
          "output_type": "execute_result",
          "data": {
            "text/html": [
              "<div>\n",
              "<style scoped>\n",
              "    .dataframe tbody tr th:only-of-type {\n",
              "        vertical-align: middle;\n",
              "    }\n",
              "\n",
              "    .dataframe tbody tr th {\n",
              "        vertical-align: top;\n",
              "    }\n",
              "\n",
              "    .dataframe thead th {\n",
              "        text-align: right;\n",
              "    }\n",
              "</style>\n",
              "<table border=\"1\" class=\"dataframe\">\n",
              "  <thead>\n",
              "    <tr style=\"text-align: right;\">\n",
              "      <th></th>\n",
              "      <th>Duration</th>\n",
              "      <th>Start date</th>\n",
              "      <th>End date</th>\n",
              "      <th>Start station number</th>\n",
              "      <th>Start station</th>\n",
              "      <th>End station number</th>\n",
              "      <th>End station</th>\n",
              "      <th>Bike number</th>\n",
              "      <th>Member type</th>\n",
              "      <th>Start_month</th>\n",
              "      <th>Start_day</th>\n",
              "      <th>Start_hour</th>\n",
              "      <th>Start_minute</th>\n",
              "      <th>Start_second</th>\n",
              "      <th>End_month</th>\n",
              "      <th>End_day</th>\n",
              "      <th>End_hour</th>\n",
              "      <th>End_minute</th>\n",
              "      <th>End_second</th>\n",
              "    </tr>\n",
              "  </thead>\n",
              "  <tbody>\n",
              "    <tr>\n",
              "      <th>0</th>\n",
              "      <td>221</td>\n",
              "      <td>2017-01-01 00:00:41</td>\n",
              "      <td>2017-01-01 00:04:23</td>\n",
              "      <td>31634</td>\n",
              "      <td>3rd &amp; Tingey St SE</td>\n",
              "      <td>31208</td>\n",
              "      <td>M St &amp; New Jersey Ave SE</td>\n",
              "      <td>W00869</td>\n",
              "      <td>Member</td>\n",
              "      <td>1</td>\n",
              "      <td>1</td>\n",
              "      <td>0</td>\n",
              "      <td>0</td>\n",
              "      <td>41</td>\n",
              "      <td>1</td>\n",
              "      <td>1</td>\n",
              "      <td>0</td>\n",
              "      <td>4</td>\n",
              "      <td>23</td>\n",
              "    </tr>\n",
              "    <tr>\n",
              "      <th>1</th>\n",
              "      <td>1676</td>\n",
              "      <td>2017-01-01 00:06:53</td>\n",
              "      <td>2017-01-01 00:34:49</td>\n",
              "      <td>31258</td>\n",
              "      <td>Lincoln Memorial</td>\n",
              "      <td>31270</td>\n",
              "      <td>8th &amp; D St NW</td>\n",
              "      <td>W00894</td>\n",
              "      <td>Casual</td>\n",
              "      <td>1</td>\n",
              "      <td>1</td>\n",
              "      <td>0</td>\n",
              "      <td>6</td>\n",
              "      <td>53</td>\n",
              "      <td>1</td>\n",
              "      <td>1</td>\n",
              "      <td>0</td>\n",
              "      <td>34</td>\n",
              "      <td>49</td>\n",
              "    </tr>\n",
              "    <tr>\n",
              "      <th>2</th>\n",
              "      <td>1356</td>\n",
              "      <td>2017-01-01 00:07:10</td>\n",
              "      <td>2017-01-01 00:29:47</td>\n",
              "      <td>31289</td>\n",
              "      <td>Henry Bacon Dr &amp; Lincoln Memorial Circle NW</td>\n",
              "      <td>31222</td>\n",
              "      <td>New York Ave &amp; 15th St NW</td>\n",
              "      <td>W21945</td>\n",
              "      <td>Casual</td>\n",
              "      <td>1</td>\n",
              "      <td>1</td>\n",
              "      <td>0</td>\n",
              "      <td>7</td>\n",
              "      <td>10</td>\n",
              "      <td>1</td>\n",
              "      <td>1</td>\n",
              "      <td>0</td>\n",
              "      <td>29</td>\n",
              "      <td>47</td>\n",
              "    </tr>\n",
              "    <tr>\n",
              "      <th>3</th>\n",
              "      <td>1327</td>\n",
              "      <td>2017-01-01 00:07:22</td>\n",
              "      <td>2017-01-01 00:29:30</td>\n",
              "      <td>31289</td>\n",
              "      <td>Henry Bacon Dr &amp; Lincoln Memorial Circle NW</td>\n",
              "      <td>31222</td>\n",
              "      <td>New York Ave &amp; 15th St NW</td>\n",
              "      <td>W20012</td>\n",
              "      <td>Casual</td>\n",
              "      <td>1</td>\n",
              "      <td>1</td>\n",
              "      <td>0</td>\n",
              "      <td>7</td>\n",
              "      <td>22</td>\n",
              "      <td>1</td>\n",
              "      <td>1</td>\n",
              "      <td>0</td>\n",
              "      <td>29</td>\n",
              "      <td>30</td>\n",
              "    </tr>\n",
              "    <tr>\n",
              "      <th>4</th>\n",
              "      <td>1636</td>\n",
              "      <td>2017-01-01 00:07:36</td>\n",
              "      <td>2017-01-01 00:34:52</td>\n",
              "      <td>31258</td>\n",
              "      <td>Lincoln Memorial</td>\n",
              "      <td>31270</td>\n",
              "      <td>8th &amp; D St NW</td>\n",
              "      <td>W22786</td>\n",
              "      <td>Casual</td>\n",
              "      <td>1</td>\n",
              "      <td>1</td>\n",
              "      <td>0</td>\n",
              "      <td>7</td>\n",
              "      <td>36</td>\n",
              "      <td>1</td>\n",
              "      <td>1</td>\n",
              "      <td>0</td>\n",
              "      <td>34</td>\n",
              "      <td>52</td>\n",
              "    </tr>\n",
              "  </tbody>\n",
              "</table>\n",
              "</div>"
            ],
            "text/plain": [
              "   Duration          Start date  ... End_minute  End_second\n",
              "0       221 2017-01-01 00:00:41  ...          4          23\n",
              "1      1676 2017-01-01 00:06:53  ...         34          49\n",
              "2      1356 2017-01-01 00:07:10  ...         29          47\n",
              "3      1327 2017-01-01 00:07:22  ...         29          30\n",
              "4      1636 2017-01-01 00:07:36  ...         34          52\n",
              "\n",
              "[5 rows x 19 columns]"
            ]
          },
          "metadata": {
            "tags": []
          },
          "execution_count": 72
        }
      ]
    },
    {
      "cell_type": "code",
      "metadata": {
        "trusted": true,
        "colab": {
          "base_uri": "https://localhost:8080/"
        },
        "id": "-48TwwDPe2Wl",
        "outputId": "f54c2b86-41c9-49a7-d762-304f448d4280"
      },
      "source": [
        "len(data['Bike number'].unique()) == len(data)"
      ],
      "execution_count": 73,
      "outputs": [
        {
          "output_type": "execute_result",
          "data": {
            "text/plain": [
              "False"
            ]
          },
          "metadata": {
            "tags": []
          },
          "execution_count": 73
        }
      ]
    },
    {
      "cell_type": "code",
      "metadata": {
        "trusted": true,
        "colab": {
          "base_uri": "https://localhost:8080/"
        },
        "id": "zkYOiMBxe2Wl",
        "outputId": "ed487bab-4bc0-4bf3-fcd7-170b20163627"
      },
      "source": [
        "data.groupby(data['Member type']).size()"
      ],
      "execution_count": 74,
      "outputs": [
        {
          "output_type": "execute_result",
          "data": {
            "text/plain": [
              "Member type\n",
              "Casual    118076\n",
              "Member    528434\n",
              "dtype: int64"
            ]
          },
          "metadata": {
            "tags": []
          },
          "execution_count": 74
        }
      ]
    },
    {
      "cell_type": "code",
      "metadata": {
        "trusted": true,
        "colab": {
          "base_uri": "https://localhost:8080/"
        },
        "id": "rLEtHXeae2Wl",
        "outputId": "193542bc-0803-446d-b448-f0dbf142b59d"
      },
      "source": [
        "data.dtypes"
      ],
      "execution_count": 75,
      "outputs": [
        {
          "output_type": "execute_result",
          "data": {
            "text/plain": [
              "Duration                         int64\n",
              "Start date              datetime64[ns]\n",
              "End date                datetime64[ns]\n",
              "Start station number             int64\n",
              "Start station                   object\n",
              "End station number               int64\n",
              "End station                     object\n",
              "Bike number                     object\n",
              "Member type                     object\n",
              "Start_month                      int64\n",
              "Start_day                        int64\n",
              "Start_hour                       int64\n",
              "Start_minute                     int64\n",
              "Start_second                     int64\n",
              "End_month                        int64\n",
              "End_day                          int64\n",
              "End_hour                         int64\n",
              "End_minute                       int64\n",
              "End_second                       int64\n",
              "dtype: object"
            ]
          },
          "metadata": {
            "tags": []
          },
          "execution_count": 75
        }
      ]
    },
    {
      "cell_type": "code",
      "metadata": {
        "trusted": true,
        "colab": {
          "base_uri": "https://localhost:8080/"
        },
        "id": "SMc3oW5Ke2Wl",
        "outputId": "9a9f3230-7e29-4604-e61c-bd29e35923f6"
      },
      "source": [
        "for l in data:\n",
        "#     print(data[l].dtype)\n",
        "    if(data[l].dtype=='object'):\n",
        "        data[l]= data[l].astype('category')\n",
        "        data[l]= data[l].cat.codes\n",
        "data.dtypes"
      ],
      "execution_count": 76,
      "outputs": [
        {
          "output_type": "execute_result",
          "data": {
            "text/plain": [
              "Duration                         int64\n",
              "Start date              datetime64[ns]\n",
              "End date                datetime64[ns]\n",
              "Start station number             int64\n",
              "Start station                    int16\n",
              "End station number               int64\n",
              "End station                      int16\n",
              "Bike number                      int16\n",
              "Member type                       int8\n",
              "Start_month                      int64\n",
              "Start_day                        int64\n",
              "Start_hour                       int64\n",
              "Start_minute                     int64\n",
              "Start_second                     int64\n",
              "End_month                        int64\n",
              "End_day                          int64\n",
              "End_hour                         int64\n",
              "End_minute                       int64\n",
              "End_second                       int64\n",
              "dtype: object"
            ]
          },
          "metadata": {
            "tags": []
          },
          "execution_count": 76
        }
      ]
    },
    {
      "cell_type": "code",
      "metadata": {
        "trusted": true,
        "colab": {
          "base_uri": "https://localhost:8080/",
          "height": 430
        },
        "id": "DTqnkjxVe2Wl",
        "outputId": "61855877-e51b-4425-f1f3-b916c862080c"
      },
      "source": [
        "data.head()"
      ],
      "execution_count": 77,
      "outputs": [
        {
          "output_type": "execute_result",
          "data": {
            "text/html": [
              "<div>\n",
              "<style scoped>\n",
              "    .dataframe tbody tr th:only-of-type {\n",
              "        vertical-align: middle;\n",
              "    }\n",
              "\n",
              "    .dataframe tbody tr th {\n",
              "        vertical-align: top;\n",
              "    }\n",
              "\n",
              "    .dataframe thead th {\n",
              "        text-align: right;\n",
              "    }\n",
              "</style>\n",
              "<table border=\"1\" class=\"dataframe\">\n",
              "  <thead>\n",
              "    <tr style=\"text-align: right;\">\n",
              "      <th></th>\n",
              "      <th>Duration</th>\n",
              "      <th>Start date</th>\n",
              "      <th>End date</th>\n",
              "      <th>Start station number</th>\n",
              "      <th>Start station</th>\n",
              "      <th>End station number</th>\n",
              "      <th>End station</th>\n",
              "      <th>Bike number</th>\n",
              "      <th>Member type</th>\n",
              "      <th>Start_month</th>\n",
              "      <th>Start_day</th>\n",
              "      <th>Start_hour</th>\n",
              "      <th>Start_minute</th>\n",
              "      <th>Start_second</th>\n",
              "      <th>End_month</th>\n",
              "      <th>End_day</th>\n",
              "      <th>End_hour</th>\n",
              "      <th>End_minute</th>\n",
              "      <th>End_second</th>\n",
              "    </tr>\n",
              "  </thead>\n",
              "  <tbody>\n",
              "    <tr>\n",
              "      <th>0</th>\n",
              "      <td>221</td>\n",
              "      <td>2017-01-01 00:00:41</td>\n",
              "      <td>2017-01-01 00:04:23</td>\n",
              "      <td>31634</td>\n",
              "      <td>122</td>\n",
              "      <td>31208</td>\n",
              "      <td>294</td>\n",
              "      <td>737</td>\n",
              "      <td>1</td>\n",
              "      <td>1</td>\n",
              "      <td>1</td>\n",
              "      <td>0</td>\n",
              "      <td>0</td>\n",
              "      <td>41</td>\n",
              "      <td>1</td>\n",
              "      <td>1</td>\n",
              "      <td>0</td>\n",
              "      <td>4</td>\n",
              "      <td>23</td>\n",
              "    </tr>\n",
              "    <tr>\n",
              "      <th>1</th>\n",
              "      <td>1676</td>\n",
              "      <td>2017-01-01 00:06:53</td>\n",
              "      <td>2017-01-01 00:34:49</td>\n",
              "      <td>31258</td>\n",
              "      <td>289</td>\n",
              "      <td>31270</td>\n",
              "      <td>147</td>\n",
              "      <td>759</td>\n",
              "      <td>0</td>\n",
              "      <td>1</td>\n",
              "      <td>1</td>\n",
              "      <td>0</td>\n",
              "      <td>6</td>\n",
              "      <td>53</td>\n",
              "      <td>1</td>\n",
              "      <td>1</td>\n",
              "      <td>0</td>\n",
              "      <td>34</td>\n",
              "      <td>49</td>\n",
              "    </tr>\n",
              "    <tr>\n",
              "      <th>2</th>\n",
              "      <td>1356</td>\n",
              "      <td>2017-01-01 00:07:10</td>\n",
              "      <td>2017-01-01 00:29:47</td>\n",
              "      <td>31289</td>\n",
              "      <td>262</td>\n",
              "      <td>31222</td>\n",
              "      <td>336</td>\n",
              "      <td>3041</td>\n",
              "      <td>0</td>\n",
              "      <td>1</td>\n",
              "      <td>1</td>\n",
              "      <td>0</td>\n",
              "      <td>7</td>\n",
              "      <td>10</td>\n",
              "      <td>1</td>\n",
              "      <td>1</td>\n",
              "      <td>0</td>\n",
              "      <td>29</td>\n",
              "      <td>47</td>\n",
              "    </tr>\n",
              "    <tr>\n",
              "      <th>3</th>\n",
              "      <td>1327</td>\n",
              "      <td>2017-01-01 00:07:22</td>\n",
              "      <td>2017-01-01 00:29:30</td>\n",
              "      <td>31289</td>\n",
              "      <td>262</td>\n",
              "      <td>31222</td>\n",
              "      <td>336</td>\n",
              "      <td>1300</td>\n",
              "      <td>0</td>\n",
              "      <td>1</td>\n",
              "      <td>1</td>\n",
              "      <td>0</td>\n",
              "      <td>7</td>\n",
              "      <td>22</td>\n",
              "      <td>1</td>\n",
              "      <td>1</td>\n",
              "      <td>0</td>\n",
              "      <td>29</td>\n",
              "      <td>30</td>\n",
              "    </tr>\n",
              "    <tr>\n",
              "      <th>4</th>\n",
              "      <td>1636</td>\n",
              "      <td>2017-01-01 00:07:36</td>\n",
              "      <td>2017-01-01 00:34:52</td>\n",
              "      <td>31258</td>\n",
              "      <td>289</td>\n",
              "      <td>31270</td>\n",
              "      <td>147</td>\n",
              "      <td>3828</td>\n",
              "      <td>0</td>\n",
              "      <td>1</td>\n",
              "      <td>1</td>\n",
              "      <td>0</td>\n",
              "      <td>7</td>\n",
              "      <td>36</td>\n",
              "      <td>1</td>\n",
              "      <td>1</td>\n",
              "      <td>0</td>\n",
              "      <td>34</td>\n",
              "      <td>52</td>\n",
              "    </tr>\n",
              "  </tbody>\n",
              "</table>\n",
              "</div>"
            ],
            "text/plain": [
              "   Duration          Start date  ... End_minute  End_second\n",
              "0       221 2017-01-01 00:00:41  ...          4          23\n",
              "1      1676 2017-01-01 00:06:53  ...         34          49\n",
              "2      1356 2017-01-01 00:07:10  ...         29          47\n",
              "3      1327 2017-01-01 00:07:22  ...         29          30\n",
              "4      1636 2017-01-01 00:07:36  ...         34          52\n",
              "\n",
              "[5 rows x 19 columns]"
            ]
          },
          "metadata": {
            "tags": []
          },
          "execution_count": 77
        }
      ]
    },
    {
      "cell_type": "code",
      "metadata": {
        "trusted": true,
        "colab": {
          "base_uri": "https://localhost:8080/",
          "height": 817
        },
        "id": "4uUUcTFLe2Wl",
        "outputId": "b1c25c45-e311-4119-dc0b-682d08723064"
      },
      "source": [
        "data[data['Start station number']==31634]"
      ],
      "execution_count": 78,
      "outputs": [
        {
          "output_type": "execute_result",
          "data": {
            "text/html": [
              "<div>\n",
              "<style scoped>\n",
              "    .dataframe tbody tr th:only-of-type {\n",
              "        vertical-align: middle;\n",
              "    }\n",
              "\n",
              "    .dataframe tbody tr th {\n",
              "        vertical-align: top;\n",
              "    }\n",
              "\n",
              "    .dataframe thead th {\n",
              "        text-align: right;\n",
              "    }\n",
              "</style>\n",
              "<table border=\"1\" class=\"dataframe\">\n",
              "  <thead>\n",
              "    <tr style=\"text-align: right;\">\n",
              "      <th></th>\n",
              "      <th>Duration</th>\n",
              "      <th>Start date</th>\n",
              "      <th>End date</th>\n",
              "      <th>Start station number</th>\n",
              "      <th>Start station</th>\n",
              "      <th>End station number</th>\n",
              "      <th>End station</th>\n",
              "      <th>Bike number</th>\n",
              "      <th>Member type</th>\n",
              "      <th>Start_month</th>\n",
              "      <th>Start_day</th>\n",
              "      <th>Start_hour</th>\n",
              "      <th>Start_minute</th>\n",
              "      <th>Start_second</th>\n",
              "      <th>End_month</th>\n",
              "      <th>End_day</th>\n",
              "      <th>End_hour</th>\n",
              "      <th>End_minute</th>\n",
              "      <th>End_second</th>\n",
              "    </tr>\n",
              "  </thead>\n",
              "  <tbody>\n",
              "    <tr>\n",
              "      <th>0</th>\n",
              "      <td>221</td>\n",
              "      <td>2017-01-01 00:00:41</td>\n",
              "      <td>2017-01-01 00:04:23</td>\n",
              "      <td>31634</td>\n",
              "      <td>122</td>\n",
              "      <td>31208</td>\n",
              "      <td>294</td>\n",
              "      <td>737</td>\n",
              "      <td>1</td>\n",
              "      <td>1</td>\n",
              "      <td>1</td>\n",
              "      <td>0</td>\n",
              "      <td>0</td>\n",
              "      <td>41</td>\n",
              "      <td>1</td>\n",
              "      <td>1</td>\n",
              "      <td>0</td>\n",
              "      <td>4</td>\n",
              "      <td>23</td>\n",
              "    </tr>\n",
              "    <tr>\n",
              "      <th>831</th>\n",
              "      <td>799</td>\n",
              "      <td>2017-01-01 11:54:18</td>\n",
              "      <td>2017-01-01 12:07:37</td>\n",
              "      <td>31634</td>\n",
              "      <td>122</td>\n",
              "      <td>31612</td>\n",
              "      <td>213</td>\n",
              "      <td>2973</td>\n",
              "      <td>1</td>\n",
              "      <td>1</td>\n",
              "      <td>1</td>\n",
              "      <td>11</td>\n",
              "      <td>54</td>\n",
              "      <td>18</td>\n",
              "      <td>1</td>\n",
              "      <td>1</td>\n",
              "      <td>12</td>\n",
              "      <td>7</td>\n",
              "      <td>37</td>\n",
              "    </tr>\n",
              "    <tr>\n",
              "      <th>836</th>\n",
              "      <td>791</td>\n",
              "      <td>2017-01-01 11:54:29</td>\n",
              "      <td>2017-01-01 12:07:41</td>\n",
              "      <td>31634</td>\n",
              "      <td>122</td>\n",
              "      <td>31612</td>\n",
              "      <td>213</td>\n",
              "      <td>3916</td>\n",
              "      <td>1</td>\n",
              "      <td>1</td>\n",
              "      <td>1</td>\n",
              "      <td>11</td>\n",
              "      <td>54</td>\n",
              "      <td>29</td>\n",
              "      <td>1</td>\n",
              "      <td>1</td>\n",
              "      <td>12</td>\n",
              "      <td>7</td>\n",
              "      <td>41</td>\n",
              "    </tr>\n",
              "    <tr>\n",
              "      <th>942</th>\n",
              "      <td>178</td>\n",
              "      <td>2017-01-01 12:16:49</td>\n",
              "      <td>2017-01-01 12:19:48</td>\n",
              "      <td>31634</td>\n",
              "      <td>122</td>\n",
              "      <td>31628</td>\n",
              "      <td>77</td>\n",
              "      <td>3835</td>\n",
              "      <td>1</td>\n",
              "      <td>1</td>\n",
              "      <td>1</td>\n",
              "      <td>12</td>\n",
              "      <td>16</td>\n",
              "      <td>49</td>\n",
              "      <td>1</td>\n",
              "      <td>1</td>\n",
              "      <td>12</td>\n",
              "      <td>19</td>\n",
              "      <td>48</td>\n",
              "    </tr>\n",
              "    <tr>\n",
              "      <th>2546</th>\n",
              "      <td>97</td>\n",
              "      <td>2017-01-01 15:34:41</td>\n",
              "      <td>2017-01-01 15:36:19</td>\n",
              "      <td>31634</td>\n",
              "      <td>122</td>\n",
              "      <td>31634</td>\n",
              "      <td>122</td>\n",
              "      <td>309</td>\n",
              "      <td>1</td>\n",
              "      <td>1</td>\n",
              "      <td>1</td>\n",
              "      <td>15</td>\n",
              "      <td>34</td>\n",
              "      <td>41</td>\n",
              "      <td>1</td>\n",
              "      <td>1</td>\n",
              "      <td>15</td>\n",
              "      <td>36</td>\n",
              "      <td>19</td>\n",
              "    </tr>\n",
              "    <tr>\n",
              "      <th>...</th>\n",
              "      <td>...</td>\n",
              "      <td>...</td>\n",
              "      <td>...</td>\n",
              "      <td>...</td>\n",
              "      <td>...</td>\n",
              "      <td>...</td>\n",
              "      <td>...</td>\n",
              "      <td>...</td>\n",
              "      <td>...</td>\n",
              "      <td>...</td>\n",
              "      <td>...</td>\n",
              "      <td>...</td>\n",
              "      <td>...</td>\n",
              "      <td>...</td>\n",
              "      <td>...</td>\n",
              "      <td>...</td>\n",
              "      <td>...</td>\n",
              "      <td>...</td>\n",
              "      <td>...</td>\n",
              "    </tr>\n",
              "    <tr>\n",
              "      <th>645812</th>\n",
              "      <td>830</td>\n",
              "      <td>2017-03-31 18:50:20</td>\n",
              "      <td>2017-03-31 19:04:11</td>\n",
              "      <td>31634</td>\n",
              "      <td>122</td>\n",
              "      <td>31804</td>\n",
              "      <td>159</td>\n",
              "      <td>3369</td>\n",
              "      <td>1</td>\n",
              "      <td>3</td>\n",
              "      <td>31</td>\n",
              "      <td>18</td>\n",
              "      <td>50</td>\n",
              "      <td>20</td>\n",
              "      <td>3</td>\n",
              "      <td>31</td>\n",
              "      <td>19</td>\n",
              "      <td>4</td>\n",
              "      <td>11</td>\n",
              "    </tr>\n",
              "    <tr>\n",
              "      <th>646022</th>\n",
              "      <td>648</td>\n",
              "      <td>2017-03-31 20:05:59</td>\n",
              "      <td>2017-03-31 20:16:48</td>\n",
              "      <td>31634</td>\n",
              "      <td>122</td>\n",
              "      <td>31616</td>\n",
              "      <td>119</td>\n",
              "      <td>1769</td>\n",
              "      <td>1</td>\n",
              "      <td>3</td>\n",
              "      <td>31</td>\n",
              "      <td>20</td>\n",
              "      <td>5</td>\n",
              "      <td>59</td>\n",
              "      <td>3</td>\n",
              "      <td>31</td>\n",
              "      <td>20</td>\n",
              "      <td>16</td>\n",
              "      <td>48</td>\n",
              "    </tr>\n",
              "    <tr>\n",
              "      <th>646062</th>\n",
              "      <td>497</td>\n",
              "      <td>2017-03-31 20:19:58</td>\n",
              "      <td>2017-03-31 20:28:16</td>\n",
              "      <td>31634</td>\n",
              "      <td>122</td>\n",
              "      <td>31244</td>\n",
              "      <td>129</td>\n",
              "      <td>1046</td>\n",
              "      <td>1</td>\n",
              "      <td>3</td>\n",
              "      <td>31</td>\n",
              "      <td>20</td>\n",
              "      <td>19</td>\n",
              "      <td>58</td>\n",
              "      <td>3</td>\n",
              "      <td>31</td>\n",
              "      <td>20</td>\n",
              "      <td>28</td>\n",
              "      <td>16</td>\n",
              "    </tr>\n",
              "    <tr>\n",
              "      <th>646390</th>\n",
              "      <td>362</td>\n",
              "      <td>2017-03-31 22:39:57</td>\n",
              "      <td>2017-03-31 22:46:00</td>\n",
              "      <td>31634</td>\n",
              "      <td>122</td>\n",
              "      <td>31108</td>\n",
              "      <td>131</td>\n",
              "      <td>3056</td>\n",
              "      <td>1</td>\n",
              "      <td>3</td>\n",
              "      <td>31</td>\n",
              "      <td>22</td>\n",
              "      <td>39</td>\n",
              "      <td>57</td>\n",
              "      <td>3</td>\n",
              "      <td>31</td>\n",
              "      <td>22</td>\n",
              "      <td>46</td>\n",
              "      <td>0</td>\n",
              "    </tr>\n",
              "    <tr>\n",
              "      <th>646467</th>\n",
              "      <td>3153</td>\n",
              "      <td>2017-03-31 23:38:17</td>\n",
              "      <td>2017-04-01 00:30:50</td>\n",
              "      <td>31634</td>\n",
              "      <td>122</td>\n",
              "      <td>31124</td>\n",
              "      <td>30</td>\n",
              "      <td>2271</td>\n",
              "      <td>0</td>\n",
              "      <td>3</td>\n",
              "      <td>31</td>\n",
              "      <td>23</td>\n",
              "      <td>38</td>\n",
              "      <td>17</td>\n",
              "      <td>4</td>\n",
              "      <td>1</td>\n",
              "      <td>0</td>\n",
              "      <td>30</td>\n",
              "      <td>50</td>\n",
              "    </tr>\n",
              "  </tbody>\n",
              "</table>\n",
              "<p>2339 rows × 19 columns</p>\n",
              "</div>"
            ],
            "text/plain": [
              "        Duration          Start date  ... End_minute  End_second\n",
              "0            221 2017-01-01 00:00:41  ...          4          23\n",
              "831          799 2017-01-01 11:54:18  ...          7          37\n",
              "836          791 2017-01-01 11:54:29  ...          7          41\n",
              "942          178 2017-01-01 12:16:49  ...         19          48\n",
              "2546          97 2017-01-01 15:34:41  ...         36          19\n",
              "...          ...                 ...  ...        ...         ...\n",
              "645812       830 2017-03-31 18:50:20  ...          4          11\n",
              "646022       648 2017-03-31 20:05:59  ...         16          48\n",
              "646062       497 2017-03-31 20:19:58  ...         28          16\n",
              "646390       362 2017-03-31 22:39:57  ...         46           0\n",
              "646467      3153 2017-03-31 23:38:17  ...         30          50\n",
              "\n",
              "[2339 rows x 19 columns]"
            ]
          },
          "metadata": {
            "tags": []
          },
          "execution_count": 78
        }
      ]
    },
    {
      "cell_type": "code",
      "metadata": {
        "trusted": true,
        "colab": {
          "base_uri": "https://localhost:8080/"
        },
        "id": "w71obywAe2Wl",
        "outputId": "1a5a1f12-6dd9-41b2-d2d5-7aea1913a9e4"
      },
      "source": [
        "data.groupby('Start station number')['Start station'].count().max()"
      ],
      "execution_count": 79,
      "outputs": [
        {
          "output_type": "execute_result",
          "data": {
            "text/plain": [
              "13712"
            ]
          },
          "metadata": {
            "tags": []
          },
          "execution_count": 79
        }
      ]
    },
    {
      "cell_type": "code",
      "metadata": {
        "trusted": true,
        "colab": {
          "base_uri": "https://localhost:8080/"
        },
        "id": "yoyufLdUe2Wl",
        "outputId": "76e3c4ed-af5e-4898-b649-62834d46b3e0"
      },
      "source": [
        "data.groupby('Start station')['Start station number'].count().max()"
      ],
      "execution_count": 80,
      "outputs": [
        {
          "output_type": "execute_result",
          "data": {
            "text/plain": [
              "13712"
            ]
          },
          "metadata": {
            "tags": []
          },
          "execution_count": 80
        }
      ]
    },
    {
      "cell_type": "code",
      "metadata": {
        "trusted": true,
        "colab": {
          "base_uri": "https://localhost:8080/",
          "height": 430
        },
        "id": "GHTq7XDKe2Wl",
        "outputId": "8882ecb7-46d3-4871-8a30-2c963eeb6779"
      },
      "source": [
        "data.head()"
      ],
      "execution_count": 81,
      "outputs": [
        {
          "output_type": "execute_result",
          "data": {
            "text/html": [
              "<div>\n",
              "<style scoped>\n",
              "    .dataframe tbody tr th:only-of-type {\n",
              "        vertical-align: middle;\n",
              "    }\n",
              "\n",
              "    .dataframe tbody tr th {\n",
              "        vertical-align: top;\n",
              "    }\n",
              "\n",
              "    .dataframe thead th {\n",
              "        text-align: right;\n",
              "    }\n",
              "</style>\n",
              "<table border=\"1\" class=\"dataframe\">\n",
              "  <thead>\n",
              "    <tr style=\"text-align: right;\">\n",
              "      <th></th>\n",
              "      <th>Duration</th>\n",
              "      <th>Start date</th>\n",
              "      <th>End date</th>\n",
              "      <th>Start station number</th>\n",
              "      <th>Start station</th>\n",
              "      <th>End station number</th>\n",
              "      <th>End station</th>\n",
              "      <th>Bike number</th>\n",
              "      <th>Member type</th>\n",
              "      <th>Start_month</th>\n",
              "      <th>Start_day</th>\n",
              "      <th>Start_hour</th>\n",
              "      <th>Start_minute</th>\n",
              "      <th>Start_second</th>\n",
              "      <th>End_month</th>\n",
              "      <th>End_day</th>\n",
              "      <th>End_hour</th>\n",
              "      <th>End_minute</th>\n",
              "      <th>End_second</th>\n",
              "    </tr>\n",
              "  </thead>\n",
              "  <tbody>\n",
              "    <tr>\n",
              "      <th>0</th>\n",
              "      <td>221</td>\n",
              "      <td>2017-01-01 00:00:41</td>\n",
              "      <td>2017-01-01 00:04:23</td>\n",
              "      <td>31634</td>\n",
              "      <td>122</td>\n",
              "      <td>31208</td>\n",
              "      <td>294</td>\n",
              "      <td>737</td>\n",
              "      <td>1</td>\n",
              "      <td>1</td>\n",
              "      <td>1</td>\n",
              "      <td>0</td>\n",
              "      <td>0</td>\n",
              "      <td>41</td>\n",
              "      <td>1</td>\n",
              "      <td>1</td>\n",
              "      <td>0</td>\n",
              "      <td>4</td>\n",
              "      <td>23</td>\n",
              "    </tr>\n",
              "    <tr>\n",
              "      <th>1</th>\n",
              "      <td>1676</td>\n",
              "      <td>2017-01-01 00:06:53</td>\n",
              "      <td>2017-01-01 00:34:49</td>\n",
              "      <td>31258</td>\n",
              "      <td>289</td>\n",
              "      <td>31270</td>\n",
              "      <td>147</td>\n",
              "      <td>759</td>\n",
              "      <td>0</td>\n",
              "      <td>1</td>\n",
              "      <td>1</td>\n",
              "      <td>0</td>\n",
              "      <td>6</td>\n",
              "      <td>53</td>\n",
              "      <td>1</td>\n",
              "      <td>1</td>\n",
              "      <td>0</td>\n",
              "      <td>34</td>\n",
              "      <td>49</td>\n",
              "    </tr>\n",
              "    <tr>\n",
              "      <th>2</th>\n",
              "      <td>1356</td>\n",
              "      <td>2017-01-01 00:07:10</td>\n",
              "      <td>2017-01-01 00:29:47</td>\n",
              "      <td>31289</td>\n",
              "      <td>262</td>\n",
              "      <td>31222</td>\n",
              "      <td>336</td>\n",
              "      <td>3041</td>\n",
              "      <td>0</td>\n",
              "      <td>1</td>\n",
              "      <td>1</td>\n",
              "      <td>0</td>\n",
              "      <td>7</td>\n",
              "      <td>10</td>\n",
              "      <td>1</td>\n",
              "      <td>1</td>\n",
              "      <td>0</td>\n",
              "      <td>29</td>\n",
              "      <td>47</td>\n",
              "    </tr>\n",
              "    <tr>\n",
              "      <th>3</th>\n",
              "      <td>1327</td>\n",
              "      <td>2017-01-01 00:07:22</td>\n",
              "      <td>2017-01-01 00:29:30</td>\n",
              "      <td>31289</td>\n",
              "      <td>262</td>\n",
              "      <td>31222</td>\n",
              "      <td>336</td>\n",
              "      <td>1300</td>\n",
              "      <td>0</td>\n",
              "      <td>1</td>\n",
              "      <td>1</td>\n",
              "      <td>0</td>\n",
              "      <td>7</td>\n",
              "      <td>22</td>\n",
              "      <td>1</td>\n",
              "      <td>1</td>\n",
              "      <td>0</td>\n",
              "      <td>29</td>\n",
              "      <td>30</td>\n",
              "    </tr>\n",
              "    <tr>\n",
              "      <th>4</th>\n",
              "      <td>1636</td>\n",
              "      <td>2017-01-01 00:07:36</td>\n",
              "      <td>2017-01-01 00:34:52</td>\n",
              "      <td>31258</td>\n",
              "      <td>289</td>\n",
              "      <td>31270</td>\n",
              "      <td>147</td>\n",
              "      <td>3828</td>\n",
              "      <td>0</td>\n",
              "      <td>1</td>\n",
              "      <td>1</td>\n",
              "      <td>0</td>\n",
              "      <td>7</td>\n",
              "      <td>36</td>\n",
              "      <td>1</td>\n",
              "      <td>1</td>\n",
              "      <td>0</td>\n",
              "      <td>34</td>\n",
              "      <td>52</td>\n",
              "    </tr>\n",
              "  </tbody>\n",
              "</table>\n",
              "</div>"
            ],
            "text/plain": [
              "   Duration          Start date  ... End_minute  End_second\n",
              "0       221 2017-01-01 00:00:41  ...          4          23\n",
              "1      1676 2017-01-01 00:06:53  ...         34          49\n",
              "2      1356 2017-01-01 00:07:10  ...         29          47\n",
              "3      1327 2017-01-01 00:07:22  ...         29          30\n",
              "4      1636 2017-01-01 00:07:36  ...         34          52\n",
              "\n",
              "[5 rows x 19 columns]"
            ]
          },
          "metadata": {
            "tags": []
          },
          "execution_count": 81
        }
      ]
    },
    {
      "cell_type": "code",
      "metadata": {
        "trusted": true,
        "colab": {
          "base_uri": "https://localhost:8080/",
          "height": 257
        },
        "id": "15v3KEfFe2Wl",
        "outputId": "afc2b326-ffc4-443f-fb1d-6f121290ffad"
      },
      "source": [
        "data= data.drop(columns=['Start date','End date','Start station','End station'])\n",
        "data.head()"
      ],
      "execution_count": 82,
      "outputs": [
        {
          "output_type": "execute_result",
          "data": {
            "text/html": [
              "<div>\n",
              "<style scoped>\n",
              "    .dataframe tbody tr th:only-of-type {\n",
              "        vertical-align: middle;\n",
              "    }\n",
              "\n",
              "    .dataframe tbody tr th {\n",
              "        vertical-align: top;\n",
              "    }\n",
              "\n",
              "    .dataframe thead th {\n",
              "        text-align: right;\n",
              "    }\n",
              "</style>\n",
              "<table border=\"1\" class=\"dataframe\">\n",
              "  <thead>\n",
              "    <tr style=\"text-align: right;\">\n",
              "      <th></th>\n",
              "      <th>Duration</th>\n",
              "      <th>Start station number</th>\n",
              "      <th>End station number</th>\n",
              "      <th>Bike number</th>\n",
              "      <th>Member type</th>\n",
              "      <th>Start_month</th>\n",
              "      <th>Start_day</th>\n",
              "      <th>Start_hour</th>\n",
              "      <th>Start_minute</th>\n",
              "      <th>Start_second</th>\n",
              "      <th>End_month</th>\n",
              "      <th>End_day</th>\n",
              "      <th>End_hour</th>\n",
              "      <th>End_minute</th>\n",
              "      <th>End_second</th>\n",
              "    </tr>\n",
              "  </thead>\n",
              "  <tbody>\n",
              "    <tr>\n",
              "      <th>0</th>\n",
              "      <td>221</td>\n",
              "      <td>31634</td>\n",
              "      <td>31208</td>\n",
              "      <td>737</td>\n",
              "      <td>1</td>\n",
              "      <td>1</td>\n",
              "      <td>1</td>\n",
              "      <td>0</td>\n",
              "      <td>0</td>\n",
              "      <td>41</td>\n",
              "      <td>1</td>\n",
              "      <td>1</td>\n",
              "      <td>0</td>\n",
              "      <td>4</td>\n",
              "      <td>23</td>\n",
              "    </tr>\n",
              "    <tr>\n",
              "      <th>1</th>\n",
              "      <td>1676</td>\n",
              "      <td>31258</td>\n",
              "      <td>31270</td>\n",
              "      <td>759</td>\n",
              "      <td>0</td>\n",
              "      <td>1</td>\n",
              "      <td>1</td>\n",
              "      <td>0</td>\n",
              "      <td>6</td>\n",
              "      <td>53</td>\n",
              "      <td>1</td>\n",
              "      <td>1</td>\n",
              "      <td>0</td>\n",
              "      <td>34</td>\n",
              "      <td>49</td>\n",
              "    </tr>\n",
              "    <tr>\n",
              "      <th>2</th>\n",
              "      <td>1356</td>\n",
              "      <td>31289</td>\n",
              "      <td>31222</td>\n",
              "      <td>3041</td>\n",
              "      <td>0</td>\n",
              "      <td>1</td>\n",
              "      <td>1</td>\n",
              "      <td>0</td>\n",
              "      <td>7</td>\n",
              "      <td>10</td>\n",
              "      <td>1</td>\n",
              "      <td>1</td>\n",
              "      <td>0</td>\n",
              "      <td>29</td>\n",
              "      <td>47</td>\n",
              "    </tr>\n",
              "    <tr>\n",
              "      <th>3</th>\n",
              "      <td>1327</td>\n",
              "      <td>31289</td>\n",
              "      <td>31222</td>\n",
              "      <td>1300</td>\n",
              "      <td>0</td>\n",
              "      <td>1</td>\n",
              "      <td>1</td>\n",
              "      <td>0</td>\n",
              "      <td>7</td>\n",
              "      <td>22</td>\n",
              "      <td>1</td>\n",
              "      <td>1</td>\n",
              "      <td>0</td>\n",
              "      <td>29</td>\n",
              "      <td>30</td>\n",
              "    </tr>\n",
              "    <tr>\n",
              "      <th>4</th>\n",
              "      <td>1636</td>\n",
              "      <td>31258</td>\n",
              "      <td>31270</td>\n",
              "      <td>3828</td>\n",
              "      <td>0</td>\n",
              "      <td>1</td>\n",
              "      <td>1</td>\n",
              "      <td>0</td>\n",
              "      <td>7</td>\n",
              "      <td>36</td>\n",
              "      <td>1</td>\n",
              "      <td>1</td>\n",
              "      <td>0</td>\n",
              "      <td>34</td>\n",
              "      <td>52</td>\n",
              "    </tr>\n",
              "  </tbody>\n",
              "</table>\n",
              "</div>"
            ],
            "text/plain": [
              "   Duration  Start station number  ...  End_minute  End_second\n",
              "0       221                 31634  ...           4          23\n",
              "1      1676                 31258  ...          34          49\n",
              "2      1356                 31289  ...          29          47\n",
              "3      1327                 31289  ...          29          30\n",
              "4      1636                 31258  ...          34          52\n",
              "\n",
              "[5 rows x 15 columns]"
            ]
          },
          "metadata": {
            "tags": []
          },
          "execution_count": 82
        }
      ]
    },
    {
      "cell_type": "code",
      "metadata": {
        "trusted": true,
        "id": "x4-gP1pZe2Wl"
      },
      "source": [
        "# data['Quarter']=0\n",
        "# data.head()"
      ],
      "execution_count": 83,
      "outputs": []
    },
    {
      "cell_type": "code",
      "metadata": {
        "trusted": true,
        "id": "p8iB5qSue2Wl"
      },
      "source": [
        "# data.loc[(data['Start_month']>=1) & (data['Start_month']<=3),'Quarter']=1"
      ],
      "execution_count": 84,
      "outputs": []
    },
    {
      "cell_type": "code",
      "metadata": {
        "trusted": true,
        "id": "AT9Sp1Oce2Wl"
      },
      "source": [
        "# data.loc[(data['Start_month']>=4) & (data['Start_month']<=6),'Quarter']=2\n",
        "# data.loc[(data['Start_month']>=7) & (data['Start_month']<=9),'Quarter']=3\n",
        "# data.loc[(data['Start_month']>=10) & (data['Start_month']<=12),'Quarter']=4\n",
        "\n",
        "\n",
        "# data.head()"
      ],
      "execution_count": 85,
      "outputs": []
    },
    {
      "cell_type": "code",
      "metadata": {
        "trusted": true,
        "colab": {
          "base_uri": "https://localhost:8080/",
          "height": 1000
        },
        "id": "R3xHb4u9e2Wl",
        "outputId": "603446bf-e3dd-4634-b241-43f45d95756b"
      },
      "source": [
        "fig,(ax1,ax2,ax3,ax4,ax5,ax6,ax7,ax8,ax9,ax10) = plt.subplots(10,1,figsize=(15,50))\n",
        "ax1.hist(data['Start_day'])\n",
        "ax1.set_title(\"Start_day\")\n",
        "ax2.hist(data['End_day'])\n",
        "ax2.set_title(\"End_day\")\n",
        "ax3.hist(data['Start_hour'])\n",
        "ax3.set_title(\"Start_hour\")\n",
        "ax4.hist(data['End_hour'])\n",
        "ax4.set_title(\"End_hour\")\n",
        "ax5.hist(data['Start_minute'])\n",
        "ax5.set_title(\"Start_minute\")\n",
        "ax6.hist(data['End_minute'])\n",
        "ax6.set_title(\"End_minute\")\n",
        "ax7.hist(data['Start_month'])\n",
        "ax7.set_title(\"Start_month\")\n",
        "ax8.hist(data['End_month'])\n",
        "ax8.set_title(\"End_month\")\n",
        "ax9.hist(data['Start_second'])\n",
        "ax9.set_title(\"Start_second\")\n",
        "ax10.hist(data['End_second'])\n",
        "ax10.set_title(\"End_second\")\n",
        "\n",
        "plt.show()"
      ],
      "execution_count": 86,
      "outputs": [
        {
          "output_type": "display_data",
          "data": {
            "image/png": "[encoded data removed]",
            "text/plain": [
              "<Figure size 1080x3600 with 10 Axes>"
            ]
          },
          "metadata": {
            "tags": [],
            "needs_background": "light"
          }
        }
      ]
    },
    {
      "cell_type": "code",
      "metadata": {
        "trusted": true,
        "id": "563yMRXke2Wl"
      },
      "source": [
        "data =data.drop(columns=['Start_day','End_day','Start_minute','End_minute','Start_second','End_second'])\n"
      ],
      "execution_count": 87,
      "outputs": []
    },
    {
      "cell_type": "code",
      "metadata": {
        "trusted": true,
        "colab": {
          "base_uri": "https://localhost:8080/",
          "height": 202
        },
        "id": "ImlYr524e2Wm",
        "outputId": "d27a00f5-877c-45ef-f9b2-e0bfa302490a"
      },
      "source": [
        "data.head()"
      ],
      "execution_count": 88,
      "outputs": [
        {
          "output_type": "execute_result",
          "data": {
            "text/html": [
              "<div>\n",
              "<style scoped>\n",
              "    .dataframe tbody tr th:only-of-type {\n",
              "        vertical-align: middle;\n",
              "    }\n",
              "\n",
              "    .dataframe tbody tr th {\n",
              "        vertical-align: top;\n",
              "    }\n",
              "\n",
              "    .dataframe thead th {\n",
              "        text-align: right;\n",
              "    }\n",
              "</style>\n",
              "<table border=\"1\" class=\"dataframe\">\n",
              "  <thead>\n",
              "    <tr style=\"text-align: right;\">\n",
              "      <th></th>\n",
              "      <th>Duration</th>\n",
              "      <th>Start station number</th>\n",
              "      <th>End station number</th>\n",
              "      <th>Bike number</th>\n",
              "      <th>Member type</th>\n",
              "      <th>Start_month</th>\n",
              "      <th>Start_hour</th>\n",
              "      <th>End_month</th>\n",
              "      <th>End_hour</th>\n",
              "    </tr>\n",
              "  </thead>\n",
              "  <tbody>\n",
              "    <tr>\n",
              "      <th>0</th>\n",
              "      <td>221</td>\n",
              "      <td>31634</td>\n",
              "      <td>31208</td>\n",
              "      <td>737</td>\n",
              "      <td>1</td>\n",
              "      <td>1</td>\n",
              "      <td>0</td>\n",
              "      <td>1</td>\n",
              "      <td>0</td>\n",
              "    </tr>\n",
              "    <tr>\n",
              "      <th>1</th>\n",
              "      <td>1676</td>\n",
              "      <td>31258</td>\n",
              "      <td>31270</td>\n",
              "      <td>759</td>\n",
              "      <td>0</td>\n",
              "      <td>1</td>\n",
              "      <td>0</td>\n",
              "      <td>1</td>\n",
              "      <td>0</td>\n",
              "    </tr>\n",
              "    <tr>\n",
              "      <th>2</th>\n",
              "      <td>1356</td>\n",
              "      <td>31289</td>\n",
              "      <td>31222</td>\n",
              "      <td>3041</td>\n",
              "      <td>0</td>\n",
              "      <td>1</td>\n",
              "      <td>0</td>\n",
              "      <td>1</td>\n",
              "      <td>0</td>\n",
              "    </tr>\n",
              "    <tr>\n",
              "      <th>3</th>\n",
              "      <td>1327</td>\n",
              "      <td>31289</td>\n",
              "      <td>31222</td>\n",
              "      <td>1300</td>\n",
              "      <td>0</td>\n",
              "      <td>1</td>\n",
              "      <td>0</td>\n",
              "      <td>1</td>\n",
              "      <td>0</td>\n",
              "    </tr>\n",
              "    <tr>\n",
              "      <th>4</th>\n",
              "      <td>1636</td>\n",
              "      <td>31258</td>\n",
              "      <td>31270</td>\n",
              "      <td>3828</td>\n",
              "      <td>0</td>\n",
              "      <td>1</td>\n",
              "      <td>0</td>\n",
              "      <td>1</td>\n",
              "      <td>0</td>\n",
              "    </tr>\n",
              "  </tbody>\n",
              "</table>\n",
              "</div>"
            ],
            "text/plain": [
              "   Duration  Start station number  ...  End_month  End_hour\n",
              "0       221                 31634  ...          1         0\n",
              "1      1676                 31258  ...          1         0\n",
              "2      1356                 31289  ...          1         0\n",
              "3      1327                 31289  ...          1         0\n",
              "4      1636                 31258  ...          1         0\n",
              "\n",
              "[5 rows x 9 columns]"
            ]
          },
          "metadata": {
            "tags": []
          },
          "execution_count": 88
        }
      ]
    },
    {
      "cell_type": "code",
      "metadata": {
        "trusted": true,
        "id": "7nCmhepDe2Wm"
      },
      "source": [
        "# data = pd.get_dummies(data,columns=['Start station number','End station number','Bike number'],sparse=True)\n",
        "# data.head()"
      ],
      "execution_count": 89,
      "outputs": []
    },
    {
      "cell_type": "code",
      "metadata": {
        "trusted": true,
        "colab": {
          "base_uri": "https://localhost:8080/"
        },
        "id": "FvITD7ine2Wm",
        "outputId": "80105371-8c38-426e-8f80-562bb9782fbf"
      },
      "source": [
        "data.shape"
      ],
      "execution_count": 90,
      "outputs": [
        {
          "output_type": "execute_result",
          "data": {
            "text/plain": [
              "(646510, 9)"
            ]
          },
          "metadata": {
            "tags": []
          },
          "execution_count": 90
        }
      ]
    },
    {
      "cell_type": "code",
      "metadata": {
        "trusted": true,
        "id": "DJpcFoApe2Wm"
      },
      "source": [
        "X  = data.drop(columns=['Member type'])\n",
        "y = data['Member type']"
      ],
      "execution_count": 91,
      "outputs": []
    },
    {
      "cell_type": "code",
      "metadata": {
        "trusted": true,
        "colab": {
          "base_uri": "https://localhost:8080/",
          "height": 202
        },
        "id": "gx6c5n4Je2Wm",
        "outputId": "fd99efa4-74b7-4ce4-b620-3f84b75c9ec8"
      },
      "source": [
        "X.head()"
      ],
      "execution_count": 92,
      "outputs": [
        {
          "output_type": "execute_result",
          "data": {
            "text/html": [
              "<div>\n",
              "<style scoped>\n",
              "    .dataframe tbody tr th:only-of-type {\n",
              "        vertical-align: middle;\n",
              "    }\n",
              "\n",
              "    .dataframe tbody tr th {\n",
              "        vertical-align: top;\n",
              "    }\n",
              "\n",
              "    .dataframe thead th {\n",
              "        text-align: right;\n",
              "    }\n",
              "</style>\n",
              "<table border=\"1\" class=\"dataframe\">\n",
              "  <thead>\n",
              "    <tr style=\"text-align: right;\">\n",
              "      <th></th>\n",
              "      <th>Duration</th>\n",
              "      <th>Start station number</th>\n",
              "      <th>End station number</th>\n",
              "      <th>Bike number</th>\n",
              "      <th>Start_month</th>\n",
              "      <th>Start_hour</th>\n",
              "      <th>End_month</th>\n",
              "      <th>End_hour</th>\n",
              "    </tr>\n",
              "  </thead>\n",
              "  <tbody>\n",
              "    <tr>\n",
              "      <th>0</th>\n",
              "      <td>221</td>\n",
              "      <td>31634</td>\n",
              "      <td>31208</td>\n",
              "      <td>737</td>\n",
              "      <td>1</td>\n",
              "      <td>0</td>\n",
              "      <td>1</td>\n",
              "      <td>0</td>\n",
              "    </tr>\n",
              "    <tr>\n",
              "      <th>1</th>\n",
              "      <td>1676</td>\n",
              "      <td>31258</td>\n",
              "      <td>31270</td>\n",
              "      <td>759</td>\n",
              "      <td>1</td>\n",
              "      <td>0</td>\n",
              "      <td>1</td>\n",
              "      <td>0</td>\n",
              "    </tr>\n",
              "    <tr>\n",
              "      <th>2</th>\n",
              "      <td>1356</td>\n",
              "      <td>31289</td>\n",
              "      <td>31222</td>\n",
              "      <td>3041</td>\n",
              "      <td>1</td>\n",
              "      <td>0</td>\n",
              "      <td>1</td>\n",
              "      <td>0</td>\n",
              "    </tr>\n",
              "    <tr>\n",
              "      <th>3</th>\n",
              "      <td>1327</td>\n",
              "      <td>31289</td>\n",
              "      <td>31222</td>\n",
              "      <td>1300</td>\n",
              "      <td>1</td>\n",
              "      <td>0</td>\n",
              "      <td>1</td>\n",
              "      <td>0</td>\n",
              "    </tr>\n",
              "    <tr>\n",
              "      <th>4</th>\n",
              "      <td>1636</td>\n",
              "      <td>31258</td>\n",
              "      <td>31270</td>\n",
              "      <td>3828</td>\n",
              "      <td>1</td>\n",
              "      <td>0</td>\n",
              "      <td>1</td>\n",
              "      <td>0</td>\n",
              "    </tr>\n",
              "  </tbody>\n",
              "</table>\n",
              "</div>"
            ],
            "text/plain": [
              "   Duration  Start station number  ...  End_month  End_hour\n",
              "0       221                 31634  ...          1         0\n",
              "1      1676                 31258  ...          1         0\n",
              "2      1356                 31289  ...          1         0\n",
              "3      1327                 31289  ...          1         0\n",
              "4      1636                 31258  ...          1         0\n",
              "\n",
              "[5 rows x 8 columns]"
            ]
          },
          "metadata": {
            "tags": []
          },
          "execution_count": 92
        }
      ]
    },
    {
      "cell_type": "code",
      "metadata": {
        "trusted": true,
        "colab": {
          "base_uri": "https://localhost:8080/"
        },
        "id": "KOMVGQjae2Wm",
        "outputId": "9f6d166a-56d6-4478-d352-039ed8f25582"
      },
      "source": [
        "y.head()"
      ],
      "execution_count": 93,
      "outputs": [
        {
          "output_type": "execute_result",
          "data": {
            "text/plain": [
              "0    1\n",
              "1    0\n",
              "2    0\n",
              "3    0\n",
              "4    0\n",
              "Name: Member type, dtype: int8"
            ]
          },
          "metadata": {
            "tags": []
          },
          "execution_count": 93
        }
      ]
    },
    {
      "cell_type": "code",
      "metadata": {
        "trusted": true,
        "id": "en-h51Nae2Wm"
      },
      "source": [
        "from sklearn.model_selection import train_test_split"
      ],
      "execution_count": 94,
      "outputs": []
    },
    {
      "cell_type": "code",
      "metadata": {
        "trusted": true,
        "id": "uADBuRhAe2Wm"
      },
      "source": [
        " X_train, X_test, y_train, y_test = train_test_split(X, y, test_size=0.4, random_state=42)"
      ],
      "execution_count": 95,
      "outputs": []
    },
    {
      "cell_type": "code",
      "metadata": {
        "trusted": true,
        "id": "_AN__Vfxe2Wm"
      },
      "source": [
        "from sklearn.metrics import accuracy_score"
      ],
      "execution_count": 96,
      "outputs": []
    },
    {
      "cell_type": "code",
      "metadata": {
        "trusted": true,
        "colab": {
          "base_uri": "https://localhost:8080/"
        },
        "id": "nQFdl_Wwe2Wm",
        "outputId": "f38ebaf6-8a5d-40f3-de49-836e35fd9857"
      },
      "source": [
        "from sklearn.metrics import accuracy_score\n",
        "from sklearn.linear_model import LogisticRegression\n",
        "from sklearn.svm import SVC, LinearSVC\n",
        "from sklearn.neighbors import KNeighborsClassifier\n",
        "from sklearn.tree import DecisionTreeClassifier\n",
        "from sklearn.ensemble import RandomForestClassifier\n",
        "from sklearn.naive_bayes import GaussianNB\n",
        "from xgboost import XGBClassifier\n",
        "from sklearn.model_selection import cross_val_score\n",
        "models = []\n",
        "\n",
        "# models.append((\"LogisticRegression\",LogisticRegression()))\n",
        "# models.append((\"SVC\",SVC()))\n",
        "# models.append((\"LinearSVC\",LinearSVC()))\n",
        "# models.append((\"KNeighbors\",KNeighborsClassifier()))\n",
        "models.append((\"DecisionTree\",DecisionTreeClassifier()))\n",
        "models.append((\"RandomForest\",RandomForestClassifier()))\n",
        "rf2 = RandomForestClassifier(n_estimators=100, criterion='gini',max_depth=10, random_state=0, max_features=None)\n",
        "models.append((\"RandomForest2\",rf2))\n",
        "models.append((\"XGBoost\",XGBClassifier()))\n",
        "results = []\n",
        "names = []\n",
        "for name,model in models:\n",
        "    result = cross_val_score(model, X_train, y_train,  cv=3)\n",
        "    names.append(name)\n",
        "    results.append(result)\n",
        "\n",
        "for i in range(len(names)):\n",
        "    print(names[i],results[i].mean())"
      ],
      "execution_count": 97,
      "outputs": [
        {
          "output_type": "stream",
          "text": [
            "DecisionTree 0.8473650832933751\n",
            "RandomForest 0.9018886018777744\n",
            "RandomForest2 0.8932911581671849\n",
            "XGBoost 0.895093141121818\n"
          ],
          "name": "stdout"
        }
      ]
    },
    {
      "cell_type": "code",
      "metadata": {
        "trusted": true,
        "colab": {
          "base_uri": "https://localhost:8080/"
        },
        "id": "At0gko62e2Wm",
        "outputId": "5919033c-3360-48cd-edf0-106e3aeceb51"
      },
      "source": [
        "from sklearn.ensemble import RandomForestClassifier\n",
        "clf = RandomForestClassifier()\n",
        "clf.fit(X_train,y_train)\n",
        "y_pred = clf.predict(X_test)\n",
        "print('Accuracy = ',accuracy_score(y_pred,y_test))"
      ],
      "execution_count": 98,
      "outputs": [
        {
          "output_type": "stream",
          "text": [
            "Accuracy =  0.9049744010146789\n"
          ],
          "name": "stdout"
        }
      ]
    },
    {
      "cell_type": "code",
      "metadata": {
        "trusted": true,
        "id": "zfR4eRYre2Wm"
      },
      "source": [
        ""
      ],
      "execution_count": 98,
      "outputs": []
    }
  ]
}